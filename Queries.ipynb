{
 "cells": [
  {
   "cell_type": "markdown",
   "id": "069a0f45",
   "metadata": {},
   "source": [
    "<h1> 1. how many books have I read this year"
   ]
  },
  {
   "cell_type": "code",
   "execution_count": 5,
   "id": "beca6911",
   "metadata": {},
   "outputs": [
    {
     "data": {
      "application/vnd.jupyter.widget-view+json": {
       "model_id": "d5c49e83cc644c938ad71ea95209d367",
       "version_major": 2,
       "version_minor": 0
      },
      "text/plain": [
       "Tab(children=(Output(layout=Layout(max_height='600px', overflow='scroll', width='100%')), Force(network=<graph…"
      ]
     },
     "metadata": {},
     "output_type": "display_data"
    }
   ],
   "source": [
    "%%gremlin\n",
    "g.V().hasLabel('Person').has('FirstNname', 'Dustin').as('p').outE(\"read\").path().by(elementMap())"
   ]
  },
  {
   "cell_type": "code",
   "execution_count": 6,
   "id": "e5960787",
   "metadata": {},
   "outputs": [
    {
     "data": {
      "application/vnd.jupyter.widget-view+json": {
       "model_id": "0f1e049738dd48f0b1d0586973b25c9c",
       "version_major": 2,
       "version_minor": 0
      },
      "text/plain": [
       "Tab(children=(Output(layout=Layout(overflow='scroll')),), _titles={'0': 'Error'})"
      ]
     },
     "metadata": {},
     "output_type": "display_data"
    }
   ],
   "source": [
    "%%gremlin\n",
    "\n",
    "g.V().hasLabel('Person')\n",
    ".has('FirstNname', 'Dustin')\n",
    ".outE(\"read\")\n",
    ".has('date', gte('2020-01-01'))\n",
    ".has('date', lte('2020-12-31')).inV().values('title').path().by(elementMap())"
   ]
  },
  {
   "cell_type": "markdown",
   "id": "523667f4",
   "metadata": {},
   "source": [
    "<h1> 2. what genres have I read the most"
   ]
  },
  {
   "cell_type": "code",
   "execution_count": 7,
   "id": "d24df653",
   "metadata": {},
   "outputs": [
    {
     "data": {
      "application/vnd.jupyter.widget-view+json": {
       "model_id": "bd2936607a1946e8831935d7c0a7435a",
       "version_major": 2,
       "version_minor": 0
      },
      "text/plain": [
       "Tab(children=(Output(layout=Layout(max_height='600px', overflow='scroll', width='100%')), Output(layout=Layout…"
      ]
     },
     "metadata": {},
     "output_type": "display_data"
    }
   ],
   "source": [
    "%%gremlin\n",
    "g.V().hasLabel('Person').has('FirstName', 'Dustin').as('p').outE('read').\n",
    "  inV().hasLabel('Book').values('genres')"
   ]
  },
  {
   "cell_type": "markdown",
   "id": "a454b78f",
   "metadata": {},
   "source": [
    "<h1> 3. leaderboard - by person"
   ]
  },
  {
   "cell_type": "code",
   "execution_count": 21,
   "id": "f029fe7a",
   "metadata": {},
   "outputs": [
    {
     "data": {
      "application/vnd.jupyter.widget-view+json": {
       "model_id": "464ac25d894c429eb6aa4082f7955c21",
       "version_major": 2,
       "version_minor": 0
      },
      "text/plain": [
       "Tab(children=(Output(layout=Layout(max_height='600px', overflow='scroll', width='100%')), Output(layout=Layout…"
      ]
     },
     "metadata": {},
     "output_type": "display_data"
    }
   ],
   "source": [
    "%%gremlin\n",
    "// g.V().hasLabel('Person').by('FirstName').by(outE('read').count())\n",
    "\n",
    "g.V().hasLabel('Person').where(__.outE('read').count().is(gt(0 ))).as('c').\n",
    "    unfold().values('FirstName', 'c')"
   ]
  },
  {
   "cell_type": "markdown",
   "id": "fc26d07f",
   "metadata": {},
   "source": [
    "<h1> 4. leaderboard - most read book"
   ]
  },
  {
   "cell_type": "code",
   "execution_count": 9,
   "id": "b7170941",
   "metadata": {},
   "outputs": [
    {
     "data": {
      "application/vnd.jupyter.widget-view+json": {
       "model_id": "2b05a36dcbc04934946c63acf5a90072",
       "version_major": 2,
       "version_minor": 0
      },
      "text/plain": [
       "Tab(children=(Output(layout=Layout(max_height='600px', overflow='scroll', width='100%')), Output(layout=Layout…"
      ]
     },
     "metadata": {},
     "output_type": "display_data"
    }
   ],
   "source": [
    "%%gremlin\n",
    "g.V().hasLabel('Book').\n",
    "    project('title', 'count').by('title').by(inE('read').count()).limit(5)"
   ]
  },
  {
   "cell_type": "code",
   "execution_count": 159,
   "id": "6503dd04",
   "metadata": {},
   "outputs": [
    {
     "data": {
      "application/vnd.jupyter.widget-view+json": {
       "model_id": "4893921f196b420d9c7f698280642d43",
       "version_major": 2,
       "version_minor": 0
      },
      "text/plain": [
       "Tab(children=(Output(layout=Layout(max_height='600px', overflow='scroll', width='100%')), Output(layout=Layout…"
      ]
     },
     "metadata": {},
     "output_type": "display_data"
    }
   ],
   "source": [
    "%%gremlin\n",
    "g.V().hasLabel('Book').where(__.inE('read').count().is(gt(0))).as('c').\n",
    "    unfold().values('title', 'c')"
   ]
  },
  {
   "cell_type": "code",
   "execution_count": 158,
   "id": "d6953eb4",
   "metadata": {},
   "outputs": [
    {
     "data": {
      "application/vnd.jupyter.widget-view+json": {
       "model_id": "827d977f2a5d44c1b4ef42c00102e3c6",
       "version_major": 2,
       "version_minor": 0
      },
      "text/plain": [
       "Tab(children=(Output(layout=Layout(max_height='600px', overflow='scroll', width='100%')), Output(layout=Layout…"
      ]
     },
     "metadata": {},
     "output_type": "display_data"
    }
   ],
   "source": [
    "%%gremlin\n",
    "g.V().hasLabel('Book').\n",
    "    group().\n",
    "    by(inE('read')).count()\n",
    " "
   ]
  },
  {
   "cell_type": "code",
   "execution_count": null,
   "id": "410f63c9",
   "metadata": {},
   "outputs": [],
   "source": []
  }
 ],
 "metadata": {
  "kernelspec": {
   "display_name": "Python 3",
   "language": "python",
   "name": "python3"
  },
  "language_info": {
   "codemirror_mode": {
    "name": "ipython",
    "version": 3
   },
   "file_extension": ".py",
   "mimetype": "text/x-python",
   "name": "python",
   "nbconvert_exporter": "python",
   "pygments_lexer": "ipython3",
   "version": "3.7.12"
  }
 },
 "nbformat": 4,
 "nbformat_minor": 5
}
