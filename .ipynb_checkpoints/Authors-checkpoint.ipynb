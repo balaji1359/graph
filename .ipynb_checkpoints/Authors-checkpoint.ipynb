{
 "cells": [
  {
   "cell_type": "code",
   "execution_count": 3,
   "id": "5b49e9f7",
   "metadata": {},
   "outputs": [],
   "source": [
    "import pandas as pd\n",
    "from faker import Faker\n",
    "fake = Faker()"
   ]
  },
  {
   "cell_type": "code",
   "execution_count": null,
   "id": "e900037b",
   "metadata": {},
   "outputs": [],
   "source": []
  },
  {
   "cell_type": "code",
   "execution_count": 2,
   "id": "d7b1d973",
   "metadata": {},
   "outputs": [
    {
     "name": "stdout",
     "output_type": "stream",
     "text": [
      "Collecting Faker\n",
      "  Downloading Faker-13.12.0-py3-none-any.whl (1.6 MB)\n",
      "\u001b[2K     \u001b[90m━━━━━━━━━━━━━━━━━━━━━━━━━━━━━━━━━━━━━━━━\u001b[0m \u001b[32m1.6/1.6 MB\u001b[0m \u001b[31m24.2 MB/s\u001b[0m eta \u001b[36m0:00:00\u001b[0m:00:01\u001b[0m\n",
      "\u001b[?25hRequirement already satisfied: typing-extensions>=3.10.0.2 in /home/ec2-user/anaconda3/envs/JupyterSystemEnv/lib/python3.7/site-packages (from Faker) (4.2.0)\n",
      "Requirement already satisfied: python-dateutil>=2.4 in /home/ec2-user/anaconda3/envs/JupyterSystemEnv/lib/python3.7/site-packages (from Faker) (2.8.2)\n",
      "Requirement already satisfied: six>=1.5 in /home/ec2-user/anaconda3/envs/JupyterSystemEnv/lib/python3.7/site-packages (from python-dateutil>=2.4->Faker) (1.16.0)\n",
      "Installing collected packages: Faker\n",
      "Successfully installed Faker-13.12.0\n"
     ]
    }
   ],
   "source": [
    "! pip install Faker"
   ]
  },
  {
   "cell_type": "code",
   "execution_count": 4,
   "id": "c682a2c3",
   "metadata": {},
   "outputs": [],
   "source": [
    "MalePersons = []\n",
    "\n",
    "for _ in range(30):\n",
    "    MalePersons.append(\n",
    "    {\n",
    "        \"FirstNname\" : fake.first_name_male(), \n",
    "        \"LastName\": fake.last_name_male(), \n",
    "        \"DOB\" : fake.date_of_birth(),\n",
    "        \"City\" : fake.city(),\n",
    "        \"State\" : fake.state(),\n",
    "        \"Country\" : fake.country(),\n",
    "#         \"PhoneNumber\" : fake.phone_number(),\n",
    "#         \"Email\" : fake.email()\n",
    "    }\n",
    "    )"
   ]
  },
  {
   "cell_type": "code",
   "execution_count": 5,
   "id": "2e4d59bd",
   "metadata": {},
   "outputs": [],
   "source": [
    "FemalePersons = []\n",
    "\n",
    "for _ in range(30):\n",
    "    FemalePersons.append(\n",
    "    {    \n",
    "        \"FirstNname\" : fake.first_name_female(), \n",
    "        \"LastName\": fake.last_name_female(), \n",
    "        \"DOB\" : fake.date_of_birth(),\n",
    "        \"City\" : fake.city(),\n",
    "        \"State\" : fake.state(),\n",
    "        \"Country\" : fake.country(),\n",
    "#         \"PhoneNumber\" : fake.phone_number(),\n",
    "#         \"Email\" : fake.email()\n",
    "    }\n",
    "    )"
   ]
  },
  {
   "cell_type": "code",
   "execution_count": 6,
   "id": "322609dc",
   "metadata": {},
   "outputs": [],
   "source": [
    "Fpersons = pd.DataFrame.from_dict(FemalePersons)"
   ]
  },
  {
   "cell_type": "code",
   "execution_count": 7,
   "id": "90659c56",
   "metadata": {},
   "outputs": [],
   "source": [
    "Mpersons = pd.DataFrame.from_dict(MalePersons)"
   ]
  },
  {
   "cell_type": "code",
   "execution_count": 8,
   "id": "da9c5191",
   "metadata": {},
   "outputs": [],
   "source": [
    "Fpersons[\"Gender\"] = \"female\"\n",
    "Mpersons[\"Gender\"] = \"male\""
   ]
  },
  {
   "cell_type": "code",
   "execution_count": 9,
   "id": "c5aec3a1",
   "metadata": {},
   "outputs": [],
   "source": [
    "pd.concat([Fpersons, Mpersons], ignore_index=True)[20:].to_csv(\"Authors.csv\", index=False)"
   ]
  },
  {
   "cell_type": "code",
   "execution_count": 14,
   "id": "3d8f2497",
   "metadata": {},
   "outputs": [
    {
     "name": "stderr",
     "output_type": "stream",
     "text": [
      "UsageError: Cell magic `%%oc` not found.\n"
     ]
    }
   ],
   "source": [
    "%%oc\n",
    "CREATE (:Author {FirstNname:\"Kelly\", LastName:\"Oneill\", DOB:\"1934-11-06\", City:\"North Tylerberg\", State:\"Alabama\", Country:\"Panama\", PhoneNumber:\"283-696-9163x178\", Email:\"galvanjoshua@example.com\", Gender:\"female\"})\n",
    "CREATE (:Author {FirstNname:\"Alison\", LastName:\"Booker\", DOB:\"1933-03-03\", City:\"Fischerfort\", State:\"New Jersey\", Country:\"Panama\", PhoneNumber:\"650.554.2830\", Email:\"whitesteven@example.net\", Gender:\"female\"})\n",
    "CREATE (:Author {FirstNname:\"Kerri\", LastName:\"White\", DOB:\"1941-07-28\", City:\"West Scottview\", State:\"Arizona\", Country:\"Bangladesh\", PhoneNumber:\"001-996-295-8356\", Email:\"lindaruiz@example.net\", Gender:\"female\"})\n",
    "CREATE (:Author {FirstNname:\"Mindy\", LastName:\"Montgomery\", DOB:\"1984-09-21\", City:\"New Jerrymouth\", State:\"Indiana\", Country:\"Saint Helena\", PhoneNumber:\"(012)924-1610\", Email:\"thomasmartin@example.org\", Gender:\"female\"})\n",
    "CREATE (:Author {FirstNname:\"Pamela\", LastName:\"Rich\", DOB:\"1986-06-30\", City:\"Davisfort\", State:\"Georgia\", Country:\"Falkland Islands (Malvinas)\", PhoneNumber:\"520-908-0209x1718\", Email:\"ccooper@example.com\", Gender:\"female\"})\n",
    "CREATE (:Author {FirstNname:\"Karla\", LastName:\"Ingram\", DOB:\"1963-08-19\", City:\"Tinaberg\", State:\"Wyoming\", Country:\"Maldives\", PhoneNumber:\"001-726-077-9121x47677\", Email:\"tscott@example.com\", Gender:\"female\"})\n",
    "CREATE (:Author {FirstNname:\"Amber\", LastName:\"Haney\", DOB:\"1954-04-27\", City:\"Melissastad\", State:\"California\", Country:\"Malawi\", PhoneNumber:\"170.171.6377x5001\", Email:\"shawn01@example.net\", Gender:\"female\"})\n",
    "CREATE (:Author {FirstNname:\"Vanessa\", LastName:\"Bentley\", DOB:\"1914-04-14\", City:\"North David\", State:\"Maine\", Country:\"Malawi\", PhoneNumber:\"6175629525\", Email:\"qmcmahon@example.org\", Gender:\"female\"})\n",
    "CREATE (:Author {FirstNname:\"Patricia\", LastName:\"Nolan\", DOB:\"1996-12-15\", City:\"Riverashire\", State:\"Tennessee\", Country:\"Maldives\", PhoneNumber:\"001-947-632-9361x395\", Email:\"howellmarie@example.com\", Gender:\"female\"})\n",
    "CREATE (:Author {FirstNname:\"Michele\", LastName:\"Hunter\", DOB:\"1960-11-09\", City:\"Jeffreyhaven\", State:\"Missouri\", Country:\"Eritrea\", PhoneNumber:\"708-333-7508x3375\", Email:\"walkerkristine@example.net\", Gender:\"female\"})\n",
    "CREATE (:Author {FirstNname:\"James\", LastName:\"Frost\", DOB:\"2016-12-28\", City:\"Cassandramouth\", State:\"Florida\", Country:\"Djibouti\", PhoneNumber:\"001-771-724-6269x035\", Email:\"judy14@example.org\", Gender:\"male\"})\n",
    "CREATE (:Author {FirstNname:\"Barry\", LastName:\"Jenkins\", DOB:\"1993-07-22\", City:\"South Jomouth\", State:\"South Dakota\", Country:\"Samoa\", PhoneNumber:\"535.801.9728\", Email:\"john72@example.net\", Gender:\"male\"})\n",
    "CREATE (:Author {FirstNname:\"Michael\", LastName:\"Nunez\", DOB:\"1915-07-17\", City:\"Taylorton\", State:\"Delaware\", Country:\"British Indian Ocean Territory (Chagos Archipelago)\", PhoneNumber:\"+1-717-122-2734x33841\", Email:\"isaacgreen@example.org\", Gender:\"male\"})\n",
    "CREATE (:Author {FirstNname:\"Steve\", LastName:\"Lopez\", DOB:\"1999-09-08\", City:\"South Kristen\", State:\"Vermont\", Country:\"Guyana\", PhoneNumber:\"050.899.9809x8164\", Email:\"christinegreen@example.com\", Gender:\"male\"})\n",
    "CREATE (:Author {FirstNname:\"Daniel\", LastName:\"May\", DOB:\"1945-02-10\", City:\"Heidichester\", State:\"Iowa\", Country:\"Senegal\", PhoneNumber:\"001-401-827-7065\", Email:\"terri73@example.org\", Gender:\"male\"})\n",
    "CREATE (:Author {FirstNname:\"Terry\", LastName:\"Griffith\", DOB:\"1991-05-02\", City:\"Christinahaven\", State:\"West Virginia\", Country:\"Comoros\", PhoneNumber:\"001-996-757-8286x90212\", Email:\"qsnyder@example.org\", Gender:\"male\"})\n",
    "CREATE (:Author {FirstNname:\"Joshua\", LastName:\"Sanders\", DOB:\"1928-05-28\", City:\"Lake Johnbury\", State:\"Mississippi\", Country:\"Macao\", PhoneNumber:\"914-268-0485x52346\", Email:\"rachel08@example.net\", Gender:\"male\"})\n",
    "CREATE (:Author {FirstNname:\"David\", LastName:\"Moore\", DOB:\"1997-07-30\", City:\"New Amyfurt\", State:\"Ohio\", Country:\"Puerto Rico\", PhoneNumber:\"(738)126-0911\", Email:\"petersonrachael@example.com\", Gender:\"male\"})\n",
    "CREATE (:Author {FirstNname:\"Shawn\", LastName:\"Sparks\", DOB:\"2006-07-30\", City:\"North Nicole\", State:\"Illinois\", Country:\"Saudi Arabia\", PhoneNumber:\"(368)464-4701\", Email:\"coxemily@example.com\", Gender:\"male\"})\n",
    "CREATE (:Author {FirstNname:\"Dustin\", LastName:\"Bowers\", DOB:\"1941-11-29\", City:\"Rachaeltown\", State:\"Oregon\", Country:\"Lithuania\", PhoneNumber:\"(580)546-9004x5107\", Email:\"klopez@example.org\", Gender:\"male\"})\n"
   ]
  },
  {
   "cell_type": "code",
   "execution_count": 10,
   "id": "776d764c",
   "metadata": {},
   "outputs": [
    {
     "name": "stdout",
     "output_type": "stream",
     "text": [
      "CREATE (:Author {FirstNname:\"Kylie\", LastName:\"Thornton\", DOB:\"1975-08-01\", City:\"Griffinbury\", State:\"Nebraska\", Country:\"Palestinian Territory\", Gender:\"female\"})\n",
      "CREATE (:Author {FirstNname:\"Amy\", LastName:\"Smith\", DOB:\"1915-02-16\", City:\"Port Heather\", State:\"Vermont\", Country:\"Latvia\", Gender:\"female\"})\n",
      "CREATE (:Author {FirstNname:\"Andrea\", LastName:\"Miller\", DOB:\"2011-04-10\", City:\"Timothyborough\", State:\"Minnesota\", Country:\"Malaysia\", Gender:\"female\"})\n",
      "CREATE (:Author {FirstNname:\"Shannon\", LastName:\"Peterson\", DOB:\"2018-05-22\", City:\"Port James\", State:\"Oregon\", Country:\"Portugal\", Gender:\"female\"})\n",
      "CREATE (:Author {FirstNname:\"Lori\", LastName:\"Coleman\", DOB:\"1993-01-27\", City:\"Lisafort\", State:\"Arkansas\", Country:\"Kazakhstan\", Gender:\"female\"})\n",
      "CREATE (:Author {FirstNname:\"Melissa\", LastName:\"Davis\", DOB:\"1976-05-30\", City:\"Grantville\", State:\"West Virginia\", Country:\"Niger\", Gender:\"female\"})\n",
      "CREATE (:Author {FirstNname:\"Christina\", LastName:\"Rodriguez\", DOB:\"1984-01-10\", City:\"Robersonhaven\", State:\"Michigan\", Country:\"Palestinian Territory\", Gender:\"female\"})\n",
      "CREATE (:Author {FirstNname:\"Heather\", LastName:\"Ingram\", DOB:\"2009-09-21\", City:\"South Gabriellaborough\", State:\"West Virginia\", Country:\"Namibia\", Gender:\"female\"})\n",
      "CREATE (:Author {FirstNname:\"Samantha\", LastName:\"Stewart\", DOB:\"1941-09-30\", City:\"Sharonstad\", State:\"Idaho\", Country:\"India\", Gender:\"female\"})\n",
      "CREATE (:Author {FirstNname:\"Stacy\", LastName:\"Bishop\", DOB:\"1925-04-25\", City:\"East Mariahshire\", State:\"Alabama\", Country:\"Burundi\", Gender:\"female\"})\n",
      "CREATE (:Author {FirstNname:\"John\", LastName:\"Williams\", DOB:\"1941-06-27\", City:\"North Anafurt\", State:\"Michigan\", Country:\"Estonia\", Gender:\"male\"})\n",
      "CREATE (:Author {FirstNname:\"Brad\", LastName:\"Crawford\", DOB:\"2007-03-21\", City:\"West Natalie\", State:\"Colorado\", Country:\"Albania\", Gender:\"male\"})\n",
      "CREATE (:Author {FirstNname:\"Jerry\", LastName:\"Martinez\", DOB:\"1916-11-01\", City:\"Martinezville\", State:\"Connecticut\", Country:\"Guatemala\", Gender:\"male\"})\n",
      "CREATE (:Author {FirstNname:\"Peter\", LastName:\"Carter\", DOB:\"1912-08-20\", City:\"Sotoside\", State:\"Kentucky\", Country:\"Guyana\", Gender:\"male\"})\n",
      "CREATE (:Author {FirstNname:\"Matthew\", LastName:\"Vazquez\", DOB:\"1985-11-22\", City:\"Howellburgh\", State:\"Mississippi\", Country:\"Iceland\", Gender:\"male\"})\n",
      "CREATE (:Author {FirstNname:\"Benjamin\", LastName:\"Sullivan\", DOB:\"1983-08-01\", City:\"Silvaburgh\", State:\"Arizona\", Country:\"Grenada\", Gender:\"male\"})\n",
      "CREATE (:Author {FirstNname:\"Robert\", LastName:\"Melton\", DOB:\"1929-07-09\", City:\"Collinschester\", State:\"Washington\", Country:\"Korea\", Gender:\"male\"})\n",
      "CREATE (:Author {FirstNname:\"Michael\", LastName:\"Walters\", DOB:\"1933-12-28\", City:\"West Jacob\", State:\"West Virginia\", Country:\"Suriname\", Gender:\"male\"})\n",
      "CREATE (:Author {FirstNname:\"Shawn\", LastName:\"Moore\", DOB:\"2013-01-18\", City:\"West Coreymouth\", State:\"Connecticut\", Country:\"Sierra Leone\", Gender:\"male\"})\n",
      "CREATE (:Author {FirstNname:\"Ian\", LastName:\"Gonzales\", DOB:\"1975-07-29\", City:\"Levyberg\", State:\"Rhode Island\", Country:\"Myanmar\", Gender:\"male\"})\n",
      "CREATE (:Author {FirstNname:\"Stephen\", LastName:\"Garcia\", DOB:\"1920-06-22\", City:\"Burnsside\", State:\"Arizona\", Country:\"Western Sahara\", Gender:\"male\"})\n",
      "CREATE (:Author {FirstNname:\"Timothy\", LastName:\"Pitts\", DOB:\"1946-12-13\", City:\"Theresaborough\", State:\"Minnesota\", Country:\"Isle of Man\", Gender:\"male\"})\n",
      "CREATE (:Author {FirstNname:\"Justin\", LastName:\"Simmons\", DOB:\"1939-07-31\", City:\"Johnside\", State:\"Wisconsin\", Country:\"Mauritius\", Gender:\"male\"})\n",
      "CREATE (:Author {FirstNname:\"Eric\", LastName:\"Neal\", DOB:\"1996-10-20\", City:\"Millerville\", State:\"Tennessee\", Country:\"Malaysia\", Gender:\"male\"})\n",
      "CREATE (:Author {FirstNname:\"Barry\", LastName:\"Morrow\", DOB:\"1930-06-21\", City:\"East Sarah\", State:\"Indiana\", Country:\"Kenya\", Gender:\"male\"})\n",
      "CREATE (:Author {FirstNname:\"Andrew\", LastName:\"Johnson\", DOB:\"1919-02-09\", City:\"Simmonsmouth\", State:\"Alaska\", Country:\"Myanmar\", Gender:\"male\"})\n",
      "CREATE (:Author {FirstNname:\"Matthew\", LastName:\"Li\", DOB:\"1907-07-05\", City:\"North Frank\", State:\"Delaware\", Country:\"Jamaica\", Gender:\"male\"})\n",
      "CREATE (:Author {FirstNname:\"Patrick\", LastName:\"Branch\", DOB:\"2017-12-22\", City:\"West Matthewland\", State:\"Nevada\", Country:\"Netherlands Antilles\", Gender:\"male\"})\n",
      "CREATE (:Author {FirstNname:\"Samuel\", LastName:\"Mcintosh\", DOB:\"1919-02-27\", City:\"New Laurahaven\", State:\"Vermont\", Country:\"Saint Barthelemy\", Gender:\"male\"})\n",
      "CREATE (:Author {FirstNname:\"Jon\", LastName:\"Burgess\", DOB:\"1986-05-30\", City:\"Barkerton\", State:\"Missouri\", Country:\"Turkey\", Gender:\"male\"})\n",
      "CREATE (:Author {FirstNname:\"Shawn\", LastName:\"White\", DOB:\"1959-02-10\", City:\"Conniemouth\", State:\"Oklahoma\", Country:\"American Samoa\", Gender:\"male\"})\n",
      "CREATE (:Author {FirstNname:\"Daniel\", LastName:\"Calderon\", DOB:\"1930-05-20\", City:\"Georgestad\", State:\"Maryland\", Country:\"Afghanistan\", Gender:\"male\"})\n",
      "CREATE (:Author {FirstNname:\"George\", LastName:\"Chavez\", DOB:\"1979-11-11\", City:\"New Kimberlyside\", State:\"Kansas\", Country:\"Macao\", Gender:\"male\"})\n",
      "CREATE (:Author {FirstNname:\"Robert\", LastName:\"Newton\", DOB:\"1988-05-25\", City:\"North Jonathanhaven\", State:\"Rhode Island\", Country:\"Sao Tome and Principe\", Gender:\"male\"})\n",
      "CREATE (:Author {FirstNname:\"David\", LastName:\"Williams\", DOB:\"1970-07-24\", City:\"West Emilyborough\", State:\"New York\", Country:\"Aruba\", Gender:\"male\"})\n",
      "CREATE (:Author {FirstNname:\"Michael\", LastName:\"Lopez\", DOB:\"2007-01-05\", City:\"East Ashley\", State:\"West Virginia\", Country:\"Netherlands\", Gender:\"male\"})\n",
      "CREATE (:Author {FirstNname:\"Christopher\", LastName:\"Cline\", DOB:\"1943-12-19\", City:\"Pamelaborough\", State:\"Minnesota\", Country:\"Saint Vincent and the Grenadines\", Gender:\"male\"})\n",
      "CREATE (:Author {FirstNname:\"Edwin\", LastName:\"Mcdaniel\", DOB:\"1945-12-28\", City:\"Tonyabury\", State:\"Mississippi\", Country:\"Solomon Islands\", Gender:\"male\"})\n",
      "CREATE (:Author {FirstNname:\"Joshua\", LastName:\"Gallagher\", DOB:\"1951-03-15\", City:\"Rayfurt\", State:\"Missouri\", Country:\"Israel\", Gender:\"male\"})\n",
      "CREATE (:Author {FirstNname:\"Paul\", LastName:\"Hunt\", DOB:\"1915-08-09\", City:\"North Davidchester\", State:\"Arizona\", Country:\"Jersey\", Gender:\"male\"})\n",
      "\n"
     ]
    }
   ],
   "source": [
    "import csv\n",
    "with open('Authors.csv', newline='') as csvfile:\n",
    "    reader = csv.DictReader(csvfile, escapechar=\"\\\\\")\n",
    "    query = \"\"\n",
    "    for row in reader:\n",
    "        s = \"CREATE (:Author {\"\n",
    "        for k in row:\n",
    "            s += f'{k}:\"{row[k]}\", '\n",
    "        s = s[:-2] + '})\\n'\n",
    "        query += s \n",
    "    print(query)"
   ]
  },
  {
   "cell_type": "code",
   "execution_count": null,
   "id": "868d4e3b",
   "metadata": {},
   "outputs": [],
   "source": []
  }
 ],
 "metadata": {
  "kernelspec": {
   "display_name": "Python 3 (ipykernel)",
   "language": "python",
   "name": "python3"
  },
  "language_info": {
   "codemirror_mode": {
    "name": "ipython",
    "version": 3
   },
   "file_extension": ".py",
   "mimetype": "text/x-python",
   "name": "python",
   "nbconvert_exporter": "python",
   "pygments_lexer": "ipython3",
   "version": "3.9.5"
  }
 },
 "nbformat": 4,
 "nbformat_minor": 5
}
