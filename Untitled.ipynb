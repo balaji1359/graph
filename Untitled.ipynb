{
 "cells": [
  {
   "cell_type": "code",
   "execution_count": null,
   "id": "40837aa4",
   "metadata": {},
   "outputs": [],
   "source": [
    "match (b:Book),(g:Genre)\n",
    "where b.title=\"Animal Farms\" and g.name=\"Literature\"\n",
    "CREATE (b) - [rel:belongs_to] -> (g)\n",
    "RETURN (rel) \n",
    "\n",
    "\n",
    "\n"
   ]
  },
  {
   "cell_type": "code",
   "execution_count": null,
   "id": "60ca7efd",
   "metadata": {},
   "outputs": [],
   "source": [
    "MATCH (p:Person), (b:Book)\n",
    "WHERE p.FirstNname = \"Barry\" AND b.title ='The Hunger Games'\n",
    "CREATE (p) - [rel:Read] -> (b)"
   ]
  },
  {
   "cell_type": "code",
   "execution_count": null,
   "id": "c0067b64",
   "metadata": {},
   "outputs": [],
   "source": [
    "MATCH (p:Person)-[r:Read]->(b:Book)-[br:belongs_to]-(g:Genre)\n",
    "WHERE p.FirstNname=\"Michael\"\n",
    "WITH  count(g) as count, g\n",
    "ORDER by count DESC \n",
    "LIMIT 1\n",
    "MATCH (g1:Genre)-[bg:belongs_to]-(b:Book)\n",
    "WITH b.title as books\n",
    "MATCH (p:Person)-[r:Read]->(b:Book)\n",
    "WHERE b.title in books\n",
    "RETURN p\n"
   ]
  }
 ],
 "metadata": {
  "kernelspec": {
   "display_name": "Python 3",
   "language": "python",
   "name": "python3"
  },
  "language_info": {
   "codemirror_mode": {
    "name": "ipython",
    "version": 3
   },
   "file_extension": ".py",
   "mimetype": "text/x-python",
   "name": "python",
   "nbconvert_exporter": "python",
   "pygments_lexer": "ipython3",
   "version": "3.7.12"
  }
 },
 "nbformat": 4,
 "nbformat_minor": 5
}
