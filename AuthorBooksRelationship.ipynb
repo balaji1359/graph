{
 "cells": [
  {
   "cell_type": "code",
   "execution_count": 5,
   "id": "3f4e9d24",
   "metadata": {},
   "outputs": [
    {
     "data": {
      "application/vnd.jupyter.widget-view+json": {
       "model_id": "afe1448ab4c44fcab7c5364fc1f5067f",
       "version_major": 2,
       "version_minor": 0
      },
      "text/plain": [
       "Tab(children=(Output(layout=Layout(max_height='600px', overflow='scroll', width='100%')), Output(layout=Layout…"
      ]
     },
     "metadata": {},
     "output_type": "display_data"
    }
   ],
   "source": [
    "%%gremlin\n",
    "g.V().hasLabel('Author').\n",
    "    has('FirstNname', 'Suzanne').has('LastName', 'Collins').as('a').V().hasLabel('Book').\n",
    "    has('title', 'The Hunger Games').has('author', 'Suzanne Collins').as('b').addE('wrote').\n",
    "    next()\n"
   ]
  },
  {
   "cell_type": "code",
   "execution_count": 6,
   "id": "5af0b908",
   "metadata": {},
   "outputs": [
    {
     "data": {
      "application/vnd.jupyter.widget-view+json": {
       "model_id": "ba00697e40a440918b5a624ffc89489a",
       "version_major": 2,
       "version_minor": 0
      },
      "text/plain": [
       "Tab(children=(Output(layout=Layout(max_height='600px', overflow='scroll', width='100%')), Output(layout=Layout…"
      ]
     },
     "metadata": {},
     "output_type": "display_data"
    }
   ],
   "source": [
    "%%gremlin\n",
    "g.V().hasLabel('Author').\n",
    "    has('FirstNname', 'Rowling').has('LastName', 'J.K').as('a').V().hasLabel('Book').\n",
    "    has('title', 'Harry Potter and the Order of the Phoenix').has('author', 'J.K. Rowling, Mary GrandPré (Illustrator)').as('b').addE('wrote').\n",
    "    next()"
   ]
  },
  {
   "cell_type": "code",
   "execution_count": 7,
   "id": "54981a03",
   "metadata": {},
   "outputs": [
    {
     "data": {
      "application/vnd.jupyter.widget-view+json": {
       "model_id": "89dc1b70ce6148939a67d497a872931e",
       "version_major": 2,
       "version_minor": 0
      },
      "text/plain": [
       "Tab(children=(Output(layout=Layout(max_height='600px', overflow='scroll', width='100%')), Output(layout=Layout…"
      ]
     },
     "metadata": {},
     "output_type": "display_data"
    }
   ],
   "source": [
    "%%gremlin\n",
    "\n",
    "g.V().hasLabel('Author').\n",
    "    has('FirstNname', 'Tolkien').has('LastName', 'J.R.R').as('a').V().hasLabel('Book').\n",
    "     has('title', 'J.R.R. Tolkien 4-Book Boxed Set: The Hobbit and The Lord of the Rings').has('author', 'J.R.R. Tolkien').as('b').addE('wrote').\n",
    "    next()\n"
   ]
  },
  {
   "cell_type": "code",
   "execution_count": null,
   "id": "d82bb2c9",
   "metadata": {},
   "outputs": [],
   "source": []
  }
 ],
 "metadata": {
  "kernelspec": {
   "display_name": "Python 3",
   "language": "python",
   "name": "python3"
  },
  "language_info": {
   "codemirror_mode": {
    "name": "ipython",
    "version": 3
   },
   "file_extension": ".py",
   "mimetype": "text/x-python",
   "name": "python",
   "nbconvert_exporter": "python",
   "pygments_lexer": "ipython3",
   "version": "3.7.12"
  }
 },
 "nbformat": 4,
 "nbformat_minor": 5
}
