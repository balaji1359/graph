{
 "cells": [
  {
   "cell_type": "code",
   "execution_count": 1,
   "id": "c0ab5526",
   "metadata": {},
   "outputs": [
    {
     "data": {
      "application/vnd.jupyter.widget-view+json": {
       "model_id": "233756fe8618403b9568941ce143a28d",
       "version_major": 2,
       "version_minor": 0
      },
      "text/plain": [
       "Tab(children=(Output(layout=Layout(max_height='600px', overflow='scroll', width='100%')), Output(layout=Layout…"
      ]
     },
     "metadata": {},
     "output_type": "display_data"
    }
   ],
   "source": [
    "%%gremlin\n",
    "g.V().hasLabel('Person').\n",
    "    has('FirstNname', 'James').has('LastName', 'Frost').as('a').V().hasLabel('Book').\n",
    "    has('title', 'The Hunger Games').has('author', 'Suzanne Collins').as('b').addE('read').\n",
    "    property('rating', 3.0).from('a').to('b').\n",
    "    property('date', '2020-01-03').from('a').to('b').\n",
    "    next()\n"
   ]
  },
  {
   "cell_type": "code",
   "execution_count": 4,
   "id": "cc770275",
   "metadata": {},
   "outputs": [
    {
     "data": {
      "application/vnd.jupyter.widget-view+json": {
       "model_id": "aa2045a230bd4e6aa15d8ba53fc398d5",
       "version_major": 2,
       "version_minor": 0
      },
      "text/plain": [
       "Tab(children=(Output(layout=Layout(max_height='600px', overflow='scroll', width='100%')), Output(layout=Layout…"
      ]
     },
     "metadata": {},
     "output_type": "display_data"
    }
   ],
   "source": [
    "%%gremlin\n",
    "g.V().hasLabel('Person').\n",
    "    has('FirstNname', 'Dustin').has('LastName', 'Bowers').as('a').V().hasLabel('Book').\n",
    "    has('title', 'The Hunger Games').has('author', 'Suzanne Collins').as('b').addE('read').\n",
    "    property('rating', 3.0).from('a').to('b').\n",
    "    property('date', '2020-01-03').from('a').to('b').\n",
    "    next()\n"
   ]
  },
  {
   "cell_type": "code",
   "execution_count": 7,
   "id": "31990d7d",
   "metadata": {},
   "outputs": [
    {
     "data": {
      "application/vnd.jupyter.widget-view+json": {
       "model_id": "9ee33005649a4227a4ce591b9bdc4119",
       "version_major": 2,
       "version_minor": 0
      },
      "text/plain": [
       "Tab(children=(Output(layout=Layout(max_height='600px', overflow='scroll', width='100%')), Output(layout=Layout…"
      ]
     },
     "metadata": {},
     "output_type": "display_data"
    }
   ],
   "source": [
    "%%gremlin\n",
    "g.V().hasLabel('Person').\n",
    "    has('FirstNname', 'Dustin').has('LastName', 'Bowers').as('a').V().hasLabel('Book').\n",
    "    has('title', 'Harry Potter and the Order of the Phoenix').has('author', 'J.K. Rowling, Mary GrandPré (Illustrator)').as('b').addE('wish').\n",
    "    property('reason', 'best seller').from('a').to('b').\n",
    "    property('date', '2020-01-03').from('a').to('b').\n",
    "    next()\n"
   ]
  },
  {
   "cell_type": "code",
   "execution_count": 5,
   "id": "5515dd50",
   "metadata": {},
   "outputs": [
    {
     "data": {
      "application/vnd.jupyter.widget-view+json": {
       "model_id": "860daa7a09184e7082a9c23a14514a13",
       "version_major": 2,
       "version_minor": 0
      },
      "text/plain": [
       "Tab(children=(Output(layout=Layout(max_height='600px', overflow='scroll', width='100%')), Output(layout=Layout…"
      ]
     },
     "metadata": {},
     "output_type": "display_data"
    }
   ],
   "source": [
    "%%gremlin\n",
    "g.V().hasLabel('Person').\n",
    "    has('FirstNname', 'David').has('LastName', 'Moore').as('a').V().hasLabel('Book').\n",
    "    has('title', 'Harry Potter and the Order of the Phoenix').has('author', 'J.K. Rowling, Mary GrandPré (Illustrator)').as('b').addE('read').\n",
    "    property('rating', 5.0).from('a').to('b').\n",
    "    property('date', '2021-01-03').from('a').to('b').\n",
    "    next()"
   ]
  },
  {
   "cell_type": "code",
   "execution_count": 6,
   "id": "d849fbeb",
   "metadata": {},
   "outputs": [
    {
     "data": {
      "application/vnd.jupyter.widget-view+json": {
       "model_id": "623e54c61fda43e68d13a031e23b4963",
       "version_major": 2,
       "version_minor": 0
      },
      "text/plain": [
       "Tab(children=(Output(layout=Layout(max_height='600px', overflow='scroll', width='100%')), Output(layout=Layout…"
      ]
     },
     "metadata": {},
     "output_type": "display_data"
    }
   ],
   "source": [
    "%%gremlin\n",
    "g.V().hasLabel('Person').\n",
    "    has('FirstNname', 'Dustin').has('LastName', 'Bowers').as('a').V().hasLabel('Book').\n",
    "    has('title', 'J.R.R. Tolkien 4-Book Boxed Set: The Hobbit and The Lord of the Rings').has('author', 'J.R.R. Tolkien').as('b').addE('wish').\n",
    "    property('reason', 'recommendation').from('a').to('b').\n",
    "    property('date', '2023-01-03').from('a').to('b').\n",
    "    next()\n"
   ]
  },
  {
   "cell_type": "code",
   "execution_count": null,
   "id": "c96b4bec",
   "metadata": {},
   "outputs": [],
   "source": []
  },
  {
   "cell_type": "code",
   "execution_count": null,
   "id": "65cd1205",
   "metadata": {},
   "outputs": [],
   "source": []
  }
 ],
 "metadata": {
  "kernelspec": {
   "display_name": "Python 3",
   "language": "python",
   "name": "python3"
  },
  "language_info": {
   "codemirror_mode": {
    "name": "ipython",
    "version": 3
   },
   "file_extension": ".py",
   "mimetype": "text/x-python",
   "name": "python",
   "nbconvert_exporter": "python",
   "pygments_lexer": "ipython3",
   "version": "3.7.12"
  }
 },
 "nbformat": 4,
 "nbformat_minor": 5
}
