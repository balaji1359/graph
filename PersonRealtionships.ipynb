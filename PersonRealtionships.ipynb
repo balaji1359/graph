{
 "cells": [
  {
   "cell_type": "code",
   "execution_count": 13,
   "id": "a31f5131",
   "metadata": {},
   "outputs": [
    {
     "data": {
      "application/vnd.jupyter.widget-view+json": {
       "model_id": "61d38d9f96af484cb6da3a86cb9f89c1",
       "version_major": 2,
       "version_minor": 0
      },
      "text/plain": [
       "Tab(children=(Output(layout=Layout(max_height='600px', overflow='scroll', width='100%')), Output(layout=Layout…"
      ]
     },
     "metadata": {},
     "output_type": "display_data"
    }
   ],
   "source": [
    "%%gremlin\n",
    "g.V().hasLabel('Person').\n",
    "    has('FirstNname', 'Kelly').has('LastName', 'Oneill').as('a').V().hasLabel('Person').\n",
    "    has('FirstNname', 'Alison').has('LastName', 'Booker').as('b').addE('friends').property('strength', 'low').from('a').to('b').next()\n",
    "\n"
   ]
  },
  {
   "cell_type": "code",
   "execution_count": null,
   "id": "51d70157",
   "metadata": {},
   "outputs": [],
   "source": []
  },
  {
   "cell_type": "code",
   "execution_count": 14,
   "id": "dfda028c",
   "metadata": {},
   "outputs": [
    {
     "data": {
      "application/vnd.jupyter.widget-view+json": {
       "model_id": "190642b3725a430e8bb2b4cf996f3484",
       "version_major": 2,
       "version_minor": 0
      },
      "text/plain": [
       "Tab(children=(Output(layout=Layout(max_height='600px', overflow='scroll', width='100%')), Output(layout=Layout…"
      ]
     },
     "metadata": {},
     "output_type": "display_data"
    }
   ],
   "source": [
    "%%gremlin\n",
    "g.V().hasLabel('Person').\n",
    "    has('FirstNname', 'Mindy').has('LastName', 'Montgomery').as('a').V().hasLabel('Person').\n",
    "    has('FirstNname', 'Alison').has('LastName', 'Booker').as('b').addE('friends').property('strength', 'low').from('a').to('b').next()\n"
   ]
  },
  {
   "cell_type": "code",
   "execution_count": 15,
   "id": "ba035b5d",
   "metadata": {},
   "outputs": [
    {
     "data": {
      "application/vnd.jupyter.widget-view+json": {
       "model_id": "9b6a205d9245474d9990c74386884d9e",
       "version_major": 2,
       "version_minor": 0
      },
      "text/plain": [
       "Tab(children=(Output(layout=Layout(max_height='600px', overflow='scroll', width='100%')), Output(layout=Layout…"
      ]
     },
     "metadata": {},
     "output_type": "display_data"
    }
   ],
   "source": [
    "%%gremlin\n",
    "g.V().hasLabel('Person').\n",
    "    has('FirstNname', 'Michael').has('LastName', 'Nunez').as('a').V().hasLabel('Person').\n",
    "    has('FirstNname', 'David').has('LastName', 'Moore').as('b').addE('friends').property('strength', 'high').from('a').to('b').next()\n"
   ]
  },
  {
   "cell_type": "code",
   "execution_count": 16,
   "id": "e6c681bb",
   "metadata": {},
   "outputs": [
    {
     "data": {
      "application/vnd.jupyter.widget-view+json": {
       "model_id": "4996bde2fcb4423ba98c18eede92f1f2",
       "version_major": 2,
       "version_minor": 0
      },
      "text/plain": [
       "Tab(children=(Output(layout=Layout(max_height='600px', overflow='scroll', width='100%')), Output(layout=Layout…"
      ]
     },
     "metadata": {},
     "output_type": "display_data"
    }
   ],
   "source": [
    "%%gremlin\n",
    "g.V().hasLabel('Person').\n",
    "    has('FirstNname', 'Dustin').has('LastName', 'Bowers').as('a').V().hasLabel('Person').\n",
    "    has('FirstNname', 'Shawn').has('LastName', 'Sparks').as('b').addE('friends').property('strength', 'high').from('a').to('b').next()\n"
   ]
  },
  {
   "cell_type": "code",
   "execution_count": 17,
   "id": "c7105486",
   "metadata": {},
   "outputs": [
    {
     "data": {
      "application/vnd.jupyter.widget-view+json": {
       "model_id": "417ff6abc10a4b4b940edf8a7f015cb2",
       "version_major": 2,
       "version_minor": 0
      },
      "text/plain": [
       "Tab(children=(Output(layout=Layout(max_height='600px', overflow='scroll', width='100%')), Output(layout=Layout…"
      ]
     },
     "metadata": {},
     "output_type": "display_data"
    }
   ],
   "source": [
    "%%gremlin\n",
    "g.V().hasLabel('Person').\n",
    "    has('FirstNname', 'Terry').has('LastName', 'Griffith').as('a').V().hasLabel('Person').\n",
    "    has('FirstNname', 'James').has('LastName', 'Frost').as('b').addE('friends').property('strength', 'medium').from('a').to('b').next()\n"
   ]
  },
  {
   "cell_type": "code",
   "execution_count": null,
   "id": "815b38be",
   "metadata": {},
   "outputs": [],
   "source": []
  },
  {
   "cell_type": "code",
   "execution_count": null,
   "id": "7d992269",
   "metadata": {},
   "outputs": [],
   "source": []
  }
 ],
 "metadata": {
  "kernelspec": {
   "display_name": "Python 3",
   "language": "python",
   "name": "python3"
  },
  "language_info": {
   "codemirror_mode": {
    "name": "ipython",
    "version": 3
   },
   "file_extension": ".py",
   "mimetype": "text/x-python",
   "name": "python",
   "nbconvert_exporter": "python",
   "pygments_lexer": "ipython3",
   "version": "3.7.12"
  }
 },
 "nbformat": 4,
 "nbformat_minor": 5
}
