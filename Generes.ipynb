{
 "cells": [
  {
   "cell_type": "code",
   "execution_count": 3,
   "id": "b585eed0",
   "metadata": {},
   "outputs": [
    {
     "data": {
      "application/vnd.jupyter.widget-view+json": {
       "model_id": "e4cfead1598347478b7fc8cff97b4765",
       "version_major": 2,
       "version_minor": 0
      },
      "text/plain": [
       "Tab()"
      ]
     },
     "metadata": {},
     "output_type": "display_data"
    }
   ],
   "source": [
    "%%oc\n",
    "CREATE (:Genres {name: \"Fiction\"})\n",
    "CREATE (:Genres {name: \"Young Adult\"})\n",
    "CREATE (:Genres {name: \"Dystopia\"})\n",
    "CREATE (:Genres {name: \"Fantasy\"})\n",
    "CREATE (:Genres {name: \"Science Fiction\"})\n",
    "CREATE (:Genres {name: \"Romance\"})\n",
    "CREATE (:Genres {name: \"Adventure\"})\n",
    "CREATE (:Genres {name: \"Teen\"})\n",
    "CREATE (:Genres {name: \"Post Apocalyptic\"})\n",
    "CREATE (:Genres {name: \"Action\"})\n",
    "CREATE (:Genres {name: \"Historical\"})\n",
    "CREATE (:Genres {name: \"Classics\"})\n",
    "CREATE (:Genres {name: \"War\"})\n"
   ]
  },
  {
   "cell_type": "code",
   "execution_count": 4,
   "id": "aa6fb906",
   "metadata": {},
   "outputs": [
    {
     "data": {
      "application/vnd.jupyter.widget-view+json": {
       "model_id": "8cdd1679a27f49c3b638d1c46d12cfb3",
       "version_major": 2,
       "version_minor": 0
      },
      "text/plain": [
       "Tab()"
      ]
     },
     "metadata": {},
     "output_type": "display_data"
    }
   ],
   "source": [
    "%%oc\n",
    "CREATE (:Genres {name: \"Literature\"})\n",
    "CREATE (:Genres {name: \"Magic\"})\n",
    "CREATE (:Genres {name: \"Novels\"})\n",
    "CREATE (:Genres {name: \"Vampires\"})\n",
    "CREATE (:Genres {name: \"Horror\"})"
   ]
  },
  {
   "cell_type": "code",
   "execution_count": null,
   "id": "4067ef5b",
   "metadata": {},
   "outputs": [],
   "source": [
    "['Young Adult', 'Fiction', \n",
    "'Dystopia', 'Fantasy', \n",
    "'Science Fiction', 'Romance', \n",
    "'Adventure', 'Teen', 'Post Apocalyptic', 'Action']\n",
    "\n",
    "\n",
    "'Literature', 'Magic', Novels, Vampires"
   ]
  },
  {
   "cell_type": "code",
   "execution_count": null,
   "id": "29792649",
   "metadata": {},
   "outputs": [],
   "source": []
  }
 ],
 "metadata": {
  "kernelspec": {
   "display_name": "Python 3",
   "language": "python",
   "name": "python3"
  },
  "language_info": {
   "codemirror_mode": {
    "name": "ipython",
    "version": 3
   },
   "file_extension": ".py",
   "mimetype": "text/x-python",
   "name": "python",
   "nbconvert_exporter": "python",
   "pygments_lexer": "ipython3",
   "version": "3.7.12"
  }
 },
 "nbformat": 4,
 "nbformat_minor": 5
}
