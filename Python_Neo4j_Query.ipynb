{
 "cells": [
  {
   "cell_type": "code",
   "execution_count": 3,
   "id": "5e1c6895",
   "metadata": {},
   "outputs": [
    {
     "name": "stdout",
     "output_type": "stream",
     "text": [
      "<Node id=0 labels=frozenset({'Book'}) properties={'author': 'Suzanne Collins', 'isbn': '9780439023481', 'publishDate': '09/14/08', 'rating': '4.33', 'description': \"WINNING MEANS FAME AND FORTUNE.LOSING MEANS CERTAIN DEATH.THE HUNGER GAMES HAVE BEGUN. . . .In the ruins of a place once known as North America lies the nation of Panem, a shining Capitol surrounded by twelve outlying districts. The Capitol is harsh and cruel and keeps the districts in line by forcing them all to send one boy and once girl between the ages of twelve and eighteen to participate in the annual Hunger Games, a fight to the death on live TV.Sixteen-year-old Katniss Everdeen regards it as a death sentence when she steps forward to take her sister's place in the Games. But Katniss has been close to dead before—and survival, for her, is second nature. Without really meaning to, she becomes a contender. But if she is to win, she will have to start making choices that weight survival against humanity and life against love.\", 'language': 'English', 'title': 'The Hunger Games'}>\n"
     ]
    },
    {
     "name": "stderr",
     "output_type": "stream",
     "text": [
      "/home/balu/pysparkenv/lib/python3.9/site-packages/neo4j/work/result.py:318: UserWarning: Expected a result with a single record, but this result contains 90\n",
      "  warn(\"Expected a result with a single record, but this result contains %d\" % size)\n"
     ]
    }
   ],
   "source": [
    "from neo4j import GraphDatabase\n",
    "\n",
    "class BasicExample:\n",
    "\n",
    "    def __init__(self, uri, user, password):\n",
    "        self.driver = GraphDatabase.driver(uri, auth=(user, password))\n",
    "\n",
    "    def close(self):\n",
    "        self.driver.close()\n",
    "\n",
    "    def print_greeting(self, message):\n",
    "        with self.driver.session() as session:\n",
    "            greeting = session.write_transaction(self._create_and_return_greeting, message)\n",
    "            print(greeting)\n",
    "\n",
    "    @staticmethod\n",
    "    def _create_and_return_greeting(tx, message):\n",
    "        result = tx.run(\"MATCH (n) RETURN n\")\n",
    "        return result.single()[0]\n",
    "\n",
    "\n",
    "if __name__ == \"__main__\":\n",
    "    greeter = BasicExample(\"bolt://localhost:7687\", \"neo4j\", \"Balu@2481358\")\n",
    "    greeter.print_greeting(\"hello, world\")\n",
    "    greeter.close()"
   ]
  },
  {
   "cell_type": "code",
   "execution_count": 4,
   "id": "368be19e",
   "metadata": {},
   "outputs": [
    {
     "name": "stdout",
     "output_type": "stream",
     "text": [
      "Requirement already satisfied: neo4j in /home/balu/pysparkenv/lib/python3.9/site-packages (4.4.4)\r\n",
      "Requirement already satisfied: pytz in /home/balu/pysparkenv/lib/python3.9/site-packages (from neo4j) (2021.1)\r\n"
     ]
    }
   ],
   "source": [
    "! pip install neo4j"
   ]
  },
  {
   "cell_type": "code",
   "execution_count": 2,
   "id": "b0486881",
   "metadata": {},
   "outputs": [
    {
     "ename": "ModuleNotFoundError",
     "evalue": "No module named 'neo4j'",
     "output_type": "error",
     "traceback": [
      "\u001b[0;31m---------------------------------------------------------------------------\u001b[0m",
      "\u001b[0;31mModuleNotFoundError\u001b[0m                       Traceback (most recent call last)",
      "Input \u001b[0;32mIn [2]\u001b[0m, in \u001b[0;36m<module>\u001b[0;34m\u001b[0m\n\u001b[0;32m----> 1\u001b[0m \u001b[38;5;28;01mimport\u001b[39;00m \u001b[38;5;21;01mneo4j\u001b[39;00m\n",
      "\u001b[0;31mModuleNotFoundError\u001b[0m: No module named 'neo4j'"
     ]
    }
   ],
   "source": [
    "import neo4j"
   ]
  },
  {
   "cell_type": "code",
   "execution_count": null,
   "id": "0ae1db7e",
   "metadata": {},
   "outputs": [],
   "source": [
    "from neo4j import GraphDatabase\n",
    "\n",
    "uri = \"neo4j://localhost:7687\"\n",
    "driver = GraphDatabase.driver(uri, auth=(\"neo4j\", \"Balu@2481358\"))\n",
    "\n",
    "def create_friend_of(tx, name, friend):\n",
    "    tx.run(\"MATCH (a:Person) WHERE a.name = $name \"\n",
    "           \"CREATE (a)-[:KNOWS]->(:Person {name: $friend})\",\n",
    "           name=name, friend=friend)\n",
    "\n",
    "with driver.session() as session:\n",
    "    session.write_transaction(create_friend_of, \"Alice\", \"Bob\")\n",
    "\n",
    "with driver.session() as session:\n",
    "    session.write_transaction(create_friend_of, \"Alice\", \"Carl\")\n",
    "\n",
    "driver.close()"
   ]
  },
  {
   "cell_type": "code",
   "execution_count": 6,
   "id": "c3ef67b8",
   "metadata": {},
   "outputs": [
    {
     "name": "stdout",
     "output_type": "stream",
     "text": [
      "/home/balu/pysparkenv/bin/python\r\n"
     ]
    }
   ],
   "source": [
    "! which python"
   ]
  },
  {
   "cell_type": "code",
   "execution_count": null,
   "id": "238f396b",
   "metadata": {},
   "outputs": [],
   "source": []
  }
 ],
 "metadata": {
  "kernelspec": {
   "display_name": "Python 3 (ipykernel)",
   "language": "python",
   "name": "python3"
  },
  "language_info": {
   "codemirror_mode": {
    "name": "ipython",
    "version": 3
   },
   "file_extension": ".py",
   "mimetype": "text/x-python",
   "name": "python",
   "nbconvert_exporter": "python",
   "pygments_lexer": "ipython3",
   "version": "3.9.5"
  }
 },
 "nbformat": 4,
 "nbformat_minor": 5
}
