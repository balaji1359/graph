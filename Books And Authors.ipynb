{
 "cells": [
  {
   "cell_type": "code",
   "execution_count": 41,
   "id": "bae8e553",
   "metadata": {},
   "outputs": [],
   "source": [
    "import pandas as pd"
   ]
  },
  {
   "cell_type": "code",
   "execution_count": 42,
   "id": "f616adff",
   "metadata": {},
   "outputs": [],
   "source": [
    "df = pd.read_csv(\"Books.csv\")"
   ]
  },
  {
   "cell_type": "code",
   "execution_count": 8,
   "id": "47b19ab6",
   "metadata": {},
   "outputs": [
    {
     "data": {
      "application/vnd.jupyter.widget-view+json": {
       "model_id": "c273b3a6a7e54b61a8f334ea1ac5d5e3",
       "version_major": 2,
       "version_minor": 0
      },
      "text/plain": [
       "Tab(children=(Output(layout=Layout(max_height='600px', overflow='scroll', width='100%')), Output(layout=Layout…"
      ]
     },
     "metadata": {},
     "output_type": "display_data"
    }
   ],
   "source": [
    "%%gremlin\n",
    "\n",
    "g.V().drop()"
   ]
  },
  {
   "cell_type": "code",
   "execution_count": 5,
   "id": "fea9e358",
   "metadata": {},
   "outputs": [],
   "source": [
    "books = df[[\n",
    "'title',\n",
    "'rating',\n",
    "'language',\n",
    "'publishDate',\n",
    "'genres'\n",
    "]]"
   ]
  },
  {
   "cell_type": "code",
   "execution_count": 35,
   "id": "d020fd69",
   "metadata": {},
   "outputs": [
    {
     "data": {
      "application/vnd.jupyter.widget-view+json": {
       "model_id": "57b7947f66514b449a8f2fbe1fcf5d5d",
       "version_major": 2,
       "version_minor": 0
      },
      "text/plain": [
       "Tab(children=(Output(layout=Layout(max_height='600px', overflow='scroll', width='100%')), Output(layout=Layout…"
      ]
     },
     "metadata": {},
     "output_type": "display_data"
    }
   ],
   "source": [
    "%%gremlin\n",
    "\n",
    "g.\n",
    "addV('Book').property('title','Bill').\n",
    "property('rating', 'rating').property('language', 'language').\n",
    "property('publishDate', 'publishDate').property('genres', 'genres').next()"
   ]
  },
  {
   "cell_type": "code",
   "execution_count": 45,
   "id": "62d7fda6",
   "metadata": {},
   "outputs": [
    {
     "data": {
      "application/vnd.jupyter.widget-view+json": {
       "model_id": "e5b9a419c67b4668a9e771aa38d2edcf",
       "version_major": 2,
       "version_minor": 0
      },
      "text/plain": [
       "Tab(children=(Output(layout=Layout(overflow='scroll')),), _titles={'0': 'Error'})"
      ]
     },
     "metadata": {},
     "output_type": "display_data"
    }
   ],
   "source": [
    "%%gremlin\n",
    "\n",
    "for row in books[:10].iterrows():\n",
    "    g.addV('Book').property('title', \"H\").next()\n",
    "//     property('rating', row[1]['rating']).property('language', row[1]['language']).property('publishDate', row[1]['publishDate']).property('genres', row[1]['genres']).next()\n",
    "    \n",
    "    \n",
    "    "
   ]
  },
  {
   "cell_type": "code",
   "execution_count": 58,
   "id": "47ad8a36",
   "metadata": {},
   "outputs": [
    {
     "data": {
      "text/html": [
       "<div>\n",
       "<style scoped>\n",
       "    .dataframe tbody tr th:only-of-type {\n",
       "        vertical-align: middle;\n",
       "    }\n",
       "\n",
       "    .dataframe tbody tr th {\n",
       "        vertical-align: top;\n",
       "    }\n",
       "\n",
       "    .dataframe thead th {\n",
       "        text-align: right;\n",
       "    }\n",
       "</style>\n",
       "<table border=\"1\" class=\"dataframe\">\n",
       "  <thead>\n",
       "    <tr style=\"text-align: right;\">\n",
       "      <th></th>\n",
       "      <th>title</th>\n",
       "      <th>rating</th>\n",
       "      <th>language</th>\n",
       "      <th>publishDate</th>\n",
       "      <th>genres</th>\n",
       "    </tr>\n",
       "  </thead>\n",
       "  <tbody>\n",
       "    <tr>\n",
       "      <th>0</th>\n",
       "      <td>The Hunger Games</td>\n",
       "      <td>4.33</td>\n",
       "      <td>English</td>\n",
       "      <td>09/14/08</td>\n",
       "      <td>['Young Adult', 'Fiction', 'Dystopia', 'Fantas...</td>\n",
       "    </tr>\n",
       "    <tr>\n",
       "      <th>1</th>\n",
       "      <td>Harry Potter and the Order of the Phoenix</td>\n",
       "      <td>4.50</td>\n",
       "      <td>English</td>\n",
       "      <td>09/28/04</td>\n",
       "      <td>['Fantasy', 'Young Adult', 'Fiction', 'Magic',...</td>\n",
       "    </tr>\n",
       "    <tr>\n",
       "      <th>2</th>\n",
       "      <td>To Kill a Mockingbird</td>\n",
       "      <td>4.28</td>\n",
       "      <td>English</td>\n",
       "      <td>05/23/06</td>\n",
       "      <td>['Classics', 'Fiction', 'Historical Fiction', ...</td>\n",
       "    </tr>\n",
       "    <tr>\n",
       "      <th>3</th>\n",
       "      <td>Pride and Prejudice</td>\n",
       "      <td>4.26</td>\n",
       "      <td>English</td>\n",
       "      <td>10/10/00</td>\n",
       "      <td>['Classics', 'Fiction', 'Romance', 'Historical...</td>\n",
       "    </tr>\n",
       "    <tr>\n",
       "      <th>4</th>\n",
       "      <td>Twilight</td>\n",
       "      <td>3.60</td>\n",
       "      <td>English</td>\n",
       "      <td>09/06/06</td>\n",
       "      <td>['Young Adult', 'Fantasy', 'Romance', 'Vampire...</td>\n",
       "    </tr>\n",
       "    <tr>\n",
       "      <th>5</th>\n",
       "      <td>The Book Thief</td>\n",
       "      <td>4.37</td>\n",
       "      <td>English</td>\n",
       "      <td>03/14/06</td>\n",
       "      <td>['Historical Fiction', 'Fiction', 'Young Adult...</td>\n",
       "    </tr>\n",
       "  </tbody>\n",
       "</table>\n",
       "</div>"
      ],
      "text/plain": [
       "                                       title  rating language publishDate  \\\n",
       "0                           The Hunger Games    4.33  English    09/14/08   \n",
       "1  Harry Potter and the Order of the Phoenix    4.50  English    09/28/04   \n",
       "2                      To Kill a Mockingbird    4.28  English    05/23/06   \n",
       "3                        Pride and Prejudice    4.26  English    10/10/00   \n",
       "4                                   Twilight    3.60  English    09/06/06   \n",
       "5                             The Book Thief    4.37  English    03/14/06   \n",
       "\n",
       "                                              genres  \n",
       "0  ['Young Adult', 'Fiction', 'Dystopia', 'Fantas...  \n",
       "1  ['Fantasy', 'Young Adult', 'Fiction', 'Magic',...  \n",
       "2  ['Classics', 'Fiction', 'Historical Fiction', ...  \n",
       "3  ['Classics', 'Fiction', 'Romance', 'Historical...  \n",
       "4  ['Young Adult', 'Fantasy', 'Romance', 'Vampire...  \n",
       "5  ['Historical Fiction', 'Fiction', 'Young Adult...  "
      ]
     },
     "execution_count": 58,
     "metadata": {},
     "output_type": "execute_result"
    }
   ],
   "source": [
    "books.head(6)"
   ]
  },
  {
   "cell_type": "code",
   "execution_count": 4,
   "id": "b369167d",
   "metadata": {},
   "outputs": [
    {
     "ename": "NameError",
     "evalue": "name 'df' is not defined",
     "output_type": "error",
     "traceback": [
      "\u001b[0;31m---------------------------------------------------------------------------\u001b[0m",
      "\u001b[0;31mNameError\u001b[0m                                 Traceback (most recent call last)",
      "\u001b[0;32m<ipython-input-4-e9cb96795106>\u001b[0m in \u001b[0;36m<module>\u001b[0;34m\u001b[0m\n\u001b[0;32m----> 1\u001b[0;31m \u001b[0mdf\u001b[0m\u001b[0;34m.\u001b[0m\u001b[0mhead\u001b[0m\u001b[0;34m(\u001b[0m\u001b[0;36m20\u001b[0m\u001b[0;34m)\u001b[0m\u001b[0;34m\u001b[0m\u001b[0;34m\u001b[0m\u001b[0m\n\u001b[0m",
      "\u001b[0;31mNameError\u001b[0m: name 'df' is not defined"
     ]
    }
   ],
   "source": [
    "df.head(20)"
   ]
  },
  {
   "cell_type": "code",
   "execution_count": 62,
   "id": "4b24ee4e",
   "metadata": {},
   "outputs": [
    {
     "data": {
      "application/vnd.jupyter.widget-view+json": {
       "model_id": "96bc2d835e0642728300a10f99117258",
       "version_major": 2,
       "version_minor": 0
      },
      "text/plain": [
       "Tab(children=(Output(layout=Layout(max_height='600px', overflow='scroll', width='100%')), Output(layout=Layout…"
      ]
     },
     "metadata": {},
     "output_type": "display_data"
    }
   ],
   "source": [
    "%%gremlin\n",
    "\n",
    "g.addV('Book').property('id', 'b1').property('title', \"The Hunger Games\").\n",
    "property('rating', 4.3).property('language', \"English\").\n",
    "property('genres', \"Young Adult, Fiction, Dystopia, Fantasy\").next()"
   ]
  },
  {
   "cell_type": "code",
   "execution_count": 63,
   "id": "9248c526",
   "metadata": {},
   "outputs": [
    {
     "data": {
      "application/vnd.jupyter.widget-view+json": {
       "model_id": "4706ea0f2fd5465f8cf495560d31b39a",
       "version_major": 2,
       "version_minor": 0
      },
      "text/plain": [
       "Tab(children=(Output(layout=Layout(max_height='600px', overflow='scroll', width='100%')), Output(layout=Layout…"
      ]
     },
     "metadata": {},
     "output_type": "display_data"
    }
   ],
   "source": [
    "%%gremlin\n",
    "\n",
    "g.addV('Book').property('id', 'b2').property('title', \"To Kill a Mockingbird\").\n",
    "property('rating', 4.0).property('language', \"Spanish\").\n",
    "property('genres', \"Fiction\").next()\n"
   ]
  },
  {
   "cell_type": "code",
   "execution_count": 64,
   "id": "330364b7",
   "metadata": {},
   "outputs": [
    {
     "data": {
      "application/vnd.jupyter.widget-view+json": {
       "model_id": "988bea53ddaa4f45960f37dfb85f4496",
       "version_major": 2,
       "version_minor": 0
      },
      "text/plain": [
       "Tab(children=(Output(layout=Layout(max_height='600px', overflow='scroll', width='100%')), Output(layout=Layout…"
      ]
     },
     "metadata": {},
     "output_type": "display_data"
    }
   ],
   "source": [
    "%%gremlin\n",
    "\n",
    "g.addV('Book').property('id', 'b3').property('title', \"Twilight\").\n",
    "property('rating', 3.0).property('language', \"English\").\n",
    "property('genres', \"Fiction, Romance, Vampire\").next()"
   ]
  },
  {
   "cell_type": "code",
   "execution_count": 65,
   "id": "2af5f217",
   "metadata": {},
   "outputs": [
    {
     "data": {
      "application/vnd.jupyter.widget-view+json": {
       "model_id": "c6553a589b674e2799048d9feba59c37",
       "version_major": 2,
       "version_minor": 0
      },
      "text/plain": [
       "Tab(children=(Output(layout=Layout(max_height='600px', overflow='scroll', width='100%')), Output(layout=Layout…"
      ]
     },
     "metadata": {},
     "output_type": "display_data"
    }
   ],
   "source": [
    "%%gremlin\n",
    "\n",
    "g.addV('Book').property('id', 'b4').property('title', \"Pride and Prejudice\").\n",
    "property('rating', 2.0).property('language', \"English\").\n",
    "property('genres', \"Fiction, Classics, Historical\").next()"
   ]
  },
  {
   "cell_type": "code",
   "execution_count": 66,
   "id": "9339a894",
   "metadata": {
    "scrolled": false
   },
   "outputs": [
    {
     "data": {
      "application/vnd.jupyter.widget-view+json": {
       "model_id": "a74ad682008c420983242c4983c26753",
       "version_major": 2,
       "version_minor": 0
      },
      "text/plain": [
       "Tab(children=(Output(layout=Layout(max_height='600px', overflow='scroll', width='100%')), Output(layout=Layout…"
      ]
     },
     "metadata": {},
     "output_type": "display_data"
    }
   ],
   "source": [
    "%%gremlin\n",
    "\n",
    "g.addV('Book').property('id', 'b5').property('title', \"The Book Thief\").\n",
    "property('rating', 4.7).property('language', \"English\").\n",
    "property('genres', \"Fiction, Classics, Historical\").next()"
   ]
  },
  {
   "cell_type": "code",
   "execution_count": 67,
   "id": "a670aca7",
   "metadata": {},
   "outputs": [
    {
     "data": {
      "application/vnd.jupyter.widget-view+json": {
       "model_id": "94a42e7ed2144e809c7a708e06be2140",
       "version_major": 2,
       "version_minor": 0
      },
      "text/plain": [
       "Tab(children=(Output(layout=Layout(max_height='600px', overflow='scroll', width='100%')), Output(layout=Layout…"
      ]
     },
     "metadata": {},
     "output_type": "display_data"
    }
   ],
   "source": [
    "%%gremlin\n",
    "\n",
    "g.addV('Author').property('id', 'a1').property('name', 'Markus Zusak').\n",
    "addV('Author').property('id', 'a2').property('name', 'Stephenie Meyer').\n",
    "addV('Author').property('id', 'a3').property('name', 'Harper Lee').\n",
    "addV('Author').property('id', 'a4').property('name', 'Suzanne Collins').next()\n"
   ]
  },
  {
   "cell_type": "code",
   "execution_count": 68,
   "id": "04cd5abb",
   "metadata": {},
   "outputs": [
    {
     "data": {
      "application/vnd.jupyter.widget-view+json": {
       "model_id": "9538e8eced574ec5b33c6db123d8a2a2",
       "version_major": 2,
       "version_minor": 0
      },
      "text/plain": [
       "Tab(children=(Output(layout=Layout(max_height='600px', overflow='scroll', width='100%')), Output(layout=Layout…"
      ]
     },
     "metadata": {},
     "output_type": "display_data"
    }
   ],
   "source": [
    "%%gremlin\n",
    "\n",
    "g.V().hasLabel('Author').\n",
    "    has('name', 'Stephenie Meyer').as('a').V().hasLabel('Book').\n",
    "    has('title', 'The Book Thief').as('b').addE('Authored').from('a').to('b')\n",
    "\n"
   ]
  },
  {
   "cell_type": "code",
   "execution_count": 69,
   "id": "86c8b8e6",
   "metadata": {
    "scrolled": true
   },
   "outputs": [
    {
     "data": {
      "application/vnd.jupyter.widget-view+json": {
       "model_id": "65e647110ae0456a908e6024110beff7",
       "version_major": 2,
       "version_minor": 0
      },
      "text/plain": [
       "Tab(children=(Output(layout=Layout(max_height='600px', overflow='scroll', width='100%')), Output(layout=Layout…"
      ]
     },
     "metadata": {},
     "output_type": "display_data"
    }
   ],
   "source": [
    "%%gremlin\n",
    "\n",
    "g.V().hasLabel('Author').\n",
    "    has('name', 'Markus Zusak').as('a').V().hasLabel('Book').\n",
    "    has('title', 'Pride and Prejudice').as('b').addE('Authored').from('a').to('b')"
   ]
  },
  {
   "cell_type": "code",
   "execution_count": 70,
   "id": "8b74d36c",
   "metadata": {},
   "outputs": [
    {
     "data": {
      "application/vnd.jupyter.widget-view+json": {
       "model_id": "9996196c01864e1eafd98cbcd6402e5b",
       "version_major": 2,
       "version_minor": 0
      },
      "text/plain": [
       "Tab(children=(Output(layout=Layout(max_height='600px', overflow='scroll', width='100%')), Output(layout=Layout…"
      ]
     },
     "metadata": {},
     "output_type": "display_data"
    }
   ],
   "source": [
    "%%gremlin\n",
    "\n",
    "g.V().hasLabel('Author').\n",
    "    has('name', 'Markus Zusak').as('a').V().hasLabel('Book').\n",
    "    has('title', 'The Hunger Games').as('b').addE('Authored').from('a').to('b')"
   ]
  },
  {
   "cell_type": "code",
   "execution_count": null,
   "id": "40e08212",
   "metadata": {},
   "outputs": [],
   "source": []
  },
  {
   "cell_type": "code",
   "execution_count": null,
   "id": "21b7177d",
   "metadata": {},
   "outputs": [],
   "source": []
  },
  {
   "cell_type": "code",
   "execution_count": 72,
   "id": "1535901e",
   "metadata": {},
   "outputs": [
    {
     "data": {
      "application/vnd.jupyter.widget-view+json": {
       "model_id": "729b79a4e8e946c58ab8574c9467a281",
       "version_major": 2,
       "version_minor": 0
      },
      "text/plain": [
       "Tab(children=(Output(layout=Layout(max_height='600px', overflow='scroll', width='100%')), Output(layout=Layout…"
      ]
     },
     "metadata": {},
     "output_type": "display_data"
    }
   ],
   "source": [
    "%%gremlin\n",
    "\n",
    "g.addV('Person').property('id', 'p1').property('name', \"Balaji\").\n",
    "property('city', 'vijayawada').property('country', \"India\").next()"
   ]
  },
  {
   "cell_type": "code",
   "execution_count": 73,
   "id": "4fc10013",
   "metadata": {},
   "outputs": [
    {
     "data": {
      "application/vnd.jupyter.widget-view+json": {
       "model_id": "b0d444a5f47640b28bbcef473cd43e06",
       "version_major": 2,
       "version_minor": 0
      },
      "text/plain": [
       "Tab(children=(Output(layout=Layout(max_height='600px', overflow='scroll', width='100%')), Output(layout=Layout…"
      ]
     },
     "metadata": {},
     "output_type": "display_data"
    }
   ],
   "source": [
    "%%gremlin\n",
    "\n",
    "g.addV('Person').property('id', 'p2').property('name', \"Bob\").\n",
    "property('city', 'Munich').property('country', \"Germany\").next()"
   ]
  },
  {
   "cell_type": "code",
   "execution_count": 74,
   "id": "fbd0092c",
   "metadata": {},
   "outputs": [
    {
     "data": {
      "application/vnd.jupyter.widget-view+json": {
       "model_id": "ff8d8145ff78409f8eb22d06044aed69",
       "version_major": 2,
       "version_minor": 0
      },
      "text/plain": [
       "Tab(children=(Output(layout=Layout(max_height='600px', overflow='scroll', width='100%')), Output(layout=Layout…"
      ]
     },
     "metadata": {},
     "output_type": "display_data"
    }
   ],
   "source": [
    "%%gremlin\n",
    "\n",
    "g.addV('Person').property('id', 'p3').property('name', \"Pradhip\").\n",
    "property('city', 'New York').property('country', \"USA\").next()"
   ]
  },
  {
   "cell_type": "code",
   "execution_count": 49,
   "id": "87485f5b",
   "metadata": {},
   "outputs": [
    {
     "data": {
      "application/vnd.jupyter.widget-view+json": {
       "model_id": "f45f1587a1804c44bc244f28a8067104",
       "version_major": 2,
       "version_minor": 0
      },
      "text/plain": [
       "Tab(children=(Output(layout=Layout(max_height='600px', overflow='scroll', width='100%')), Output(layout=Layout…"
      ]
     },
     "metadata": {},
     "output_type": "display_data"
    }
   ],
   "source": [
    "%%gremlin\n",
    "\n",
    "g.V().valueMap().limit(20)"
   ]
  },
  {
   "cell_type": "code",
   "execution_count": 75,
   "id": "680d0234",
   "metadata": {},
   "outputs": [
    {
     "data": {
      "application/vnd.jupyter.widget-view+json": {
       "model_id": "10d84cf2ed7748da8e00dafa411f2c73",
       "version_major": 2,
       "version_minor": 0
      },
      "text/plain": [
       "Tab(children=(Output(layout=Layout(max_height='600px', overflow='scroll', width='100%')), Output(layout=Layout…"
      ]
     },
     "metadata": {},
     "output_type": "display_data"
    }
   ],
   "source": [
    "%%gremlin\n",
    "g.V().hasLabel('Person').\n",
    "    has('name', 'Pradhip').as('a').V().hasLabel('Person').\n",
    "    has('name', 'Balaji').as('b').addE('friends').property('type', 'close').from('a').to('b').next()\n",
    "\n",
    "\n",
    "\n"
   ]
  },
  {
   "cell_type": "code",
   "execution_count": 76,
   "id": "22383a77",
   "metadata": {},
   "outputs": [
    {
     "data": {
      "application/vnd.jupyter.widget-view+json": {
       "model_id": "279fa33df40540fe82bfd21130078835",
       "version_major": 2,
       "version_minor": 0
      },
      "text/plain": [
       "Tab(children=(Output(layout=Layout(max_height='600px', overflow='scroll', width='100%')), Force(network=<graph…"
      ]
     },
     "metadata": {},
     "output_type": "display_data"
    }
   ],
   "source": [
    "%%gremlin\n",
    "g.V().hasLabel('Person').has('name', 'Pradhip').bothE().otherV().path().by(elementMap())"
   ]
  },
  {
   "cell_type": "code",
   "execution_count": 77,
   "id": "99818314",
   "metadata": {},
   "outputs": [
    {
     "data": {
      "application/vnd.jupyter.widget-view+json": {
       "model_id": "d4df8a3ec4454665b17fd2834f93c390",
       "version_major": 2,
       "version_minor": 0
      },
      "text/plain": [
       "Tab(children=(Output(layout=Layout(max_height='600px', overflow='scroll', width='100%')), Force(network=<graph…"
      ]
     },
     "metadata": {},
     "output_type": "display_data"
    }
   ],
   "source": [
    "%%gremlin\n",
    "g.V().hasLabel('Person').has('name', 'Balaji').both('friends').path().by(elementMap())"
   ]
  },
  {
   "cell_type": "code",
   "execution_count": 79,
   "id": "8a52f4c5",
   "metadata": {},
   "outputs": [
    {
     "data": {
      "application/vnd.jupyter.widget-view+json": {
       "model_id": "21d2166b575e4f60ad40845a9fa58e10",
       "version_major": 2,
       "version_minor": 0
      },
      "text/plain": [
       "Tab(children=(Output(layout=Layout(max_height='600px', overflow='scroll', width='100%')), Output(layout=Layout…"
      ]
     },
     "metadata": {},
     "output_type": "display_data"
    }
   ],
   "source": [
    "%%gremlin\n",
    "g.V().hasLabel('Person').\n",
    "    has('name', 'Pradhip').as('a').V().hasLabel('Book').\n",
    "    has('title', 'Pride and Prejudice').as('b').addE('read').property('date', '01.12.2020').from('a').to('b').next()\n",
    "    "
   ]
  },
  {
   "cell_type": "code",
   "execution_count": 80,
   "id": "d8f8b330",
   "metadata": {},
   "outputs": [
    {
     "data": {
      "application/vnd.jupyter.widget-view+json": {
       "model_id": "ae0207f538f548519a1f2f20f370e4c7",
       "version_major": 2,
       "version_minor": 0
      },
      "text/plain": [
       "Tab(children=(Output(layout=Layout(max_height='600px', overflow='scroll', width='100%')), Output(layout=Layout…"
      ]
     },
     "metadata": {},
     "output_type": "display_data"
    }
   ],
   "source": [
    "%%gremlin\n",
    "g.V().hasLabel('Person').\n",
    "    has('name', 'Balaji').as('a').V().hasLabel('Book').\n",
    "    has('title', 'Twilight').as('b').addE('read').property('date', '01.12.2020').from('a').to('b').next()\n",
    "    "
   ]
  },
  {
   "cell_type": "code",
   "execution_count": 83,
   "id": "d42cfae1",
   "metadata": {},
   "outputs": [
    {
     "data": {
      "application/vnd.jupyter.widget-view+json": {
       "model_id": "5924871fb9bd4d31930baa35671f9881",
       "version_major": 2,
       "version_minor": 0
      },
      "text/plain": [
       "Tab(children=(Output(layout=Layout(max_height='600px', overflow='scroll', width='100%')), Output(layout=Layout…"
      ]
     },
     "metadata": {},
     "output_type": "display_data"
    }
   ],
   "source": [
    "%%gremlin\n",
    "g.V().hasLabel('Person').\n",
    "    has('name', 'Balaji').as('a').V().hasLabel('Book').\n",
    "    has('title', 'Pride and Prejudice').as('b').addE('wish').property('date', '01.12.2023').from('a').to('b').next()\n",
    "    "
   ]
  },
  {
   "cell_type": "code",
   "execution_count": 117,
   "id": "6c198dfc",
   "metadata": {},
   "outputs": [
    {
     "data": {
      "application/vnd.jupyter.widget-view+json": {
       "model_id": "e03a8094a9bd45bf997ca18a6f80b6d6",
       "version_major": 2,
       "version_minor": 0
      },
      "text/plain": [
       "Tab(children=(Output(layout=Layout(max_height='600px', overflow='scroll', width='100%')), Force(network=<graph…"
      ]
     },
     "metadata": {},
     "output_type": "display_data"
    }
   ],
   "source": [
    "%%gremlin -de dist\n",
    "g.V().hasLabel('Person').has('name', 'Balaji').outE().elementMap()"
   ]
  },
  {
   "cell_type": "code",
   "execution_count": 116,
   "id": "d7c7e415",
   "metadata": {
    "scrolled": true
   },
   "outputs": [
    {
     "data": {
      "application/vnd.jupyter.widget-view+json": {
       "model_id": "4ebfd824f82b45338b021ed21426350f",
       "version_major": 2,
       "version_minor": 0
      },
      "text/plain": [
       "Tab(children=(Output(layout=Layout(max_height='600px', overflow='scroll', width='100%')), Force(network=<graph…"
      ]
     },
     "metadata": {},
     "output_type": "display_data"
    }
   ],
   "source": [
    "%%gremlin\n",
    "g.V().hasLabel('Person').has('name', 'Balaji').inE().outV().outE().inV().outE().inV().path().by('id').by(label)"
   ]
  },
  {
   "cell_type": "code",
   "execution_count": 118,
   "id": "8bbc2a8a",
   "metadata": {},
   "outputs": [
    {
     "data": {
      "application/vnd.jupyter.widget-view+json": {
       "model_id": "0711dc185f8a4948a954c2474812ab33",
       "version_major": 2,
       "version_minor": 0
      },
      "text/plain": [
       "Tab(children=(Output(layout=Layout(max_height='600px', overflow='scroll', width='100%')), Force(network=<graph…"
      ]
     },
     "metadata": {},
     "output_type": "display_data"
    }
   ],
   "source": [
    "%%gremlin\n",
    "g.V().hasLabel('Person').has('name', 'Balaji').outE().inV().path().by(valueMap(true)).limit(5)"
   ]
  },
  {
   "cell_type": "code",
   "execution_count": 119,
   "id": "e6dc164f",
   "metadata": {},
   "outputs": [
    {
     "data": {
      "application/vnd.jupyter.widget-view+json": {
       "model_id": "84a455164795496dbc789f9b520f3386",
       "version_major": 2,
       "version_minor": 0
      },
      "text/plain": [
       "Tab(children=(Output(layout=Layout(max_height='600px', overflow='scroll', width='100%')), Force(network=<graph…"
      ]
     },
     "metadata": {},
     "output_type": "display_data"
    }
   ],
   "source": [
    "%%gremlin\n",
    "g.V().hasLabel('Person').has('name', 'Balaji').both().path().by(valueMap(true))"
   ]
  },
  {
   "cell_type": "code",
   "execution_count": 152,
   "id": "561aa5a2",
   "metadata": {},
   "outputs": [
    {
     "data": {
      "application/vnd.jupyter.widget-view+json": {
       "model_id": "7adb010f53ae440e8d00dcc0621ddbe2",
       "version_major": 2,
       "version_minor": 0
      },
      "text/plain": [
       "Tab(children=(Output(layout=Layout(max_height='600px', overflow='scroll', width='100%')), Force(network=<graph…"
      ]
     },
     "metadata": {},
     "output_type": "display_data"
    }
   ],
   "source": [
    "%%gremlin\n",
    "g.V().hasLabel('Person').has('name', 'Pradhip').\n",
    "both('friends').out().in().path().by(valueMap())"
   ]
  },
  {
   "cell_type": "code",
   "execution_count": 150,
   "id": "b263da0b",
   "metadata": {},
   "outputs": [
    {
     "data": {
      "application/vnd.jupyter.widget-view+json": {
       "model_id": "48888ecb276b4fd0a55036e253c274c1",
       "version_major": 2,
       "version_minor": 0
      },
      "text/plain": [
       "Tab(children=(Output(layout=Layout(max_height='600px', overflow='scroll', width='100%')), Force(network=<graph…"
      ]
     },
     "metadata": {},
     "output_type": "display_data"
    }
   ],
   "source": [
    "%%gremlin\n",
    "g.V().hasLabel('Person').has('name', 'Balaji').\n",
    "both('friends').out().path().by(valueMap())"
   ]
  },
  {
   "cell_type": "code",
   "execution_count": 14,
   "id": "c92c1673",
   "metadata": {},
   "outputs": [
    {
     "data": {
      "application/vnd.jupyter.widget-view+json": {
       "model_id": "cb7075e92189455d978147f952848760",
       "version_major": 2,
       "version_minor": 0
      },
      "text/plain": [
       "Tab(children=(Output(layout=Layout(max_height='600px', overflow='scroll', width='100%')), Force(network=<graph…"
      ]
     },
     "metadata": {},
     "output_type": "display_data"
    }
   ],
   "source": [
    "%%gremlin\n",
    "g.V().out().in().path().by(elementMap())"
   ]
  },
  {
   "cell_type": "code",
   "execution_count": 9,
   "id": "9c104470",
   "metadata": {},
   "outputs": [
    {
     "data": {
      "application/vnd.jupyter.widget-view+json": {
       "model_id": "c6596d6a78424e5aa539c220f88dcecc",
       "version_major": 2,
       "version_minor": 0
      },
      "text/plain": [
       "Tab()"
      ]
     },
     "metadata": {},
     "output_type": "display_data"
    }
   ],
   "source": [
    "%%oc\n",
    "CREATE (:Author {FirstNname:\"Suzanne\", LastName:\"Collins\", DOB:\"1934-11-06\", City:\"North Tylerberg\", State:\"Alabama\", Country:\"Panama\", PhoneNumber:\"283-696-9163x178\", Email:\"galvanjoshua@example.com\", Gender:\"female\"})\n",
    "CREATE (:Author {FirstNname:\"Rowling\", LastName:\"J.K\", DOB:\"1933-03-03\", City:\"Fischerfort\", State:\"New Jersey\", Country:\"Panama\", PhoneNumber:\"650.554.2830\", Email:\"whitesteven@example.net\", Gender:\"female\"})\n",
    "CREATE (:Author {FirstNname:\"Tolkien\", LastName:\"J.R.R\", DOB:\"1941-07-28\", City:\"West Scottview\", State:\"Arizona\", Country:\"Bangladesh\", PhoneNumber:\"001-996-295-8356\", Email:\"lindaruiz@example.net\", Gender:\"female\"})\n",
    "CREATE (:Author {FirstNname:\"Mindy\", LastName:\"Montgomery\", DOB:\"1984-09-21\", City:\"New Jerrymouth\", State:\"Indiana\", Country:\"Saint Helena\", PhoneNumber:\"(012)924-1610\", Email:\"thomasmartin@example.org\", Gender:\"female\"})\n",
    "CREATE (:Author {FirstNname:\"Pamela\", LastName:\"Rich\", DOB:\"1946-06-30\", City:\"Davisfort\", State:\"Georgia\", Country:\"Falkland Islands (Malvinas)\", PhoneNumber:\"520-908-0209x1718\", Email:\"ccooper@example.com\", Gender:\"female\"})\n",
    "CREATE (:Author {FirstNname:\"Margaret\", LastName:\"Mitchell\", DOB:\"1986-07-30\", City:\"Davisfort\", State:\"Georgia\", Country:\"Falkland Islands (Malvinas)\", PhoneNumber:\"520-908-0209x1718\", Email:\"ccooper@example.com\", Gender:\"female\"})\n",
    "\n",
    "CREATE (:Author {FirstNname:\"Stephenie\", LastName:\"Meyer\", DOB:\"2000-06-30\", City:\"Davisfort\", State:\"Georgia\", Country:\"Falkland Islands (Malvinas)\", PhoneNumber:\"520-908-0209x1718\", Email:\"ccooper@example.com\", Gender:\"female\"})\n",
    "\n",
    "CREATE (:Author {FirstNname:\"George\", LastName:\"Orwell\", DOB:\"1998-01-30\", City:\"Davisfort\", State:\"Georgia\", Country:\"Falkland Islands (Malvinas)\", PhoneNumber:\"520-908-0209x1718\", Email:\"ccooper@example.com\", Gender:\"male\"})"
   ]
  },
  {
   "cell_type": "code",
   "execution_count": 10,
   "id": "82b9c55d",
   "metadata": {},
   "outputs": [
    {
     "data": {
      "application/vnd.jupyter.widget-view+json": {
       "model_id": "0ef8213446f14c88abfc66316eb55d62",
       "version_major": 2,
       "version_minor": 0
      },
      "text/plain": [
       "Tab()"
      ]
     },
     "metadata": {},
     "output_type": "display_data"
    }
   ],
   "source": [
    "%%oc\n",
    "CREATE (:Book {title:\"The Hunger Games\", author:\"Suzanne Collins\", isbn:\"9780439023481\", rating:\"4.33\", language:\"English\", publishDate:\"09/14/08\", genres:\"['Young Adult', 'Fiction', 'Dystopia', 'Fantasy', 'Science Fiction', 'Romance', 'Adventure', 'Teen', 'Post Apocalyptic', 'Action']\", description:\"WINNING MEANS FAME AND FORTUNE.LOSING MEANS CERTAIN DEATH.THE HUNGER GAMES HAVE BEGUN. . . .In the ruins of a place once known as North America lies the nation of Panem, a shining Capitol surrounded by twelve outlying districts. The Capitol is harsh and cruel and keeps the districts in line by forcing them all to send one boy and once girl between the ages of twelve and eighteen to participate in the annual Hunger Games, a fight to the death on live TV.Sixteen-year-old Katniss Everdeen regards it as a death sentence when she steps forward to take her sister's place in the Games. But Katniss has been close to dead before—and survival, for her, is second nature. Without really meaning to, she becomes a contender. But if she is to win, she will have to start making choices that weight survival against humanity and life against love.\"})\n",
    "CREATE (:Book {title:\"Harry Potter and the Order of the Phoenix\", author:\"J.K. Rowling, Mary GrandPré (Illustrator)\", isbn:\"9780439358071\", rating:\"4.5\", language:\"English\", publishDate:\"09/28/04\", genres:\"['Fantasy', 'Young Adult', 'Fiction', 'Magic', 'Childrens', 'Adventure', 'Audiobook', 'Middle Grade', 'Classics', 'Science Fiction Fantasy']\", description:\"There is a door at the end of a silent corridor. And it’s haunting Harry Pottter’s dreams. Why else would he be waking in the middle of the night, screaming in terror?Harry has a lot on his mind for this, his fifth year at Hogwarts: a Defense Against the Dark Arts teacher with a personality like poisoned honey; a big surprise on the Gryffindor Quidditch team; and the looming terror of the Ordinary Wizarding Level exams. But all these things pale next to the growing threat of He-Who-Must-Not-Be-Named - a threat that neither the magical government nor the authorities at Hogwarts can stop.As the grasp of darkness tightens, Harry must discover the true depth and strength of his friends, the importance of boundless loyalty, and the shocking price of unbearable sacrifice.His fate depends on them all.\"})\n",
    "CREATE (:Book {title:\"To Kill a Mockingbird\", author:\"Harper Lee\", isbn:\"9999999999999\", rating:\"4.28\", language:\"English\", publishDate:\"05/23/06\", genres:\"['Classics', 'Fiction', 'Historical Fiction', 'School', 'Literature', 'Young Adult', 'Historical', 'Novels', 'Read For School', 'High School']\", description:\"The unforgettable novel of a childhood in a sleepy Southern town and the crisis of conscience that rocked it, To Kill A Mockingbird became both an instant bestseller and a critical success when it was first published in 1960. It went on to win the Pulitzer Prize in 1961 and was later made into an Academy Award-winning film, also a classic.Compassionate, dramatic, and deeply moving, To Kill A Mockingbird takes readers to the roots of human behavior - to innocence and experience, kindness and cruelty, love and hatred, humor and pathos. Now with over 18 million copies in print and translated into forty languages, this regional story by a young Alabama woman claims universal appeal. Harper Lee always considered her book to be a simple love story. Today it is regarded as a masterpiece of American literature.\"})\n",
    "CREATE (:Book {title:\"Pride and Prejudice\", author:\"Jane Austen, Anna Quindlen (Introduction)\", isbn:\"9999999999999\", rating:\"4.26\", language:\"English\", publishDate:\"10/10/00\", genres:\"['Classics', 'Fiction', 'Romance', 'Historical Fiction', 'Literature', 'Historical', 'Novels', 'Historical Romance', 'Classic Literature', 'Adult']\", description:\"Alternate cover edition of ISBN 9780679783268Since its immediate success in 1813, Pride and Prejudice has remained one of the most popular novels in the English language. Jane Austen called this brilliant work her own darling child and its vivacious heroine, Elizabeth Bennet, as delightful a creature as ever appeared in print. The romantic clash between the opinionated Elizabeth and her proud beau, Mr. Darcy, is a splendid performance of civilized sparring. And Jane Austen's radiant wit sparkles as her characters dance a delicate quadrille of flirtation and intrigue, making this book the most superb comedy of manners of Regency England.\"})\n",
    "CREATE (:Book {title:\"Twilight\", author:\"Stephenie Meyer\", isbn:\"9780316015844\", rating:\"3.6\", language:\"English\", publishDate:\"09/06/06\", genres:\"['Young Adult', 'Fantasy', 'Romance', 'Vampires', 'Fiction', 'Paranormal', 'Paranormal Romance', 'Supernatural', 'Teen', 'Urban Fantasy']\", description:\"About three things I was absolutely positive.First, Edward was a vampire.Second, there was a part of him—and I didn't know how dominant that part might be—that thirsted for my blood.And third, I was unconditionally and irrevocably in love with him.Deeply seductive and extraordinarily suspenseful, Twilight is a love story with bite.\"})\n",
    "CREATE (:Book {title:\"The Book Thief\", author:\"Markus Zusak (Goodreads Author)\", isbn:\"9780375831003\", rating:\"4.37\", language:\"English\", publishDate:\"03/14/06\", genres:\"['Historical Fiction', 'Fiction', 'Young Adult', 'Historical', 'Classics', 'War', 'Holocaust', 'World War II', 'Books About Books', 'Audiobook']\", description:\"Librarian's note: An alternate cover edition can be found hereIt is 1939. Nazi Germany. The country is holding its breath. Death has never been busier, and will be busier still.By her brother's graveside, Liesel's life is changed when she picks up a single object, partially hidden in the snow. It is The Gravedigger's Handbook, left behind there by accident, and it is her first act of book thievery. So begins a love affair with books and words, as Liesel, with the help of her accordian-playing foster father, learns to read. Soon she is stealing books from Nazi book-burnings, the mayor's wife's library, wherever there are books to be found.But these are dangerous times. When Liesel's foster family hides a Jew in their basement, Liesel's world is both opened up, and closed down.In superbly crafted writing that burns with intensity, award-winning author Markus Zusak has given us one of the most enduring stories of our time.(Note: this title was not published as YA fiction)\"})\n",
    "CREATE (:Book {title:\"Animal Farm\", author:\"George Orwell, Russell Baker (Preface), C.M. Woodhouse (Introduction)\", isbn:\"9780451526342\", rating:\"3.95\", language:\"English\", publishDate:\"04/28/96\", genres:\"['Classics', 'Fiction', 'Dystopia', 'Fantasy', 'Literature', 'Politics', 'School', 'Science Fiction', 'Novels', 'Read For School']\", description:\"Librarian's note: There is an Alternate Cover Edition for this edition of this book here.A farm is taken over by its overworked, mistreated animals. With flaming idealism and stirring slogans, they set out to create a paradise of progress, justice, and equality. Thus the stage is set for one of the most telling satiric fables ever penned –a razor-edged fairy tale for grown-ups that records the evolution from revolution against tyranny to a totalitarianism just as terrible. When Animal Farm was first published, Stalinist Russia was seen as its target. Today it is devastatingly clear that wherever and whenever freedom is attacked, under whatever banner, the cutting clarity and savage comedy of George Orwell’s masterpiece have a meaning and message still ferociously fresh.\"})\n",
    "CREATE (:Book {title:\"The Chronicles of Narnia\", author:\"C.S. Lewis, Pauline Baynes (Illustrator)\", isbn:\"9999999999999\", rating:\"4.26\", language:\"English\", publishDate:\"09/16/02\", genres:\"['Fantasy', 'Classics', 'Fiction', 'Young Adult', 'Childrens', 'Christian', 'Adventure', 'Science Fiction Fantasy', 'Middle Grade', 'Christian Fiction']\", description:\"Journeys to the end of the world, fantastic creatures, and epic battles between good and evil—what more could any reader ask for in one book? The book that has it all is The Lion, the Witch and the Wardrobe, written in 1949 by Clive Staples Lewis. But Lewis did not stop there. Six more books followed, and together they became known as The Chronicles of Narnia.For the past fifty years, The Chronicles of Narnia have transcended the fantasy genre to become part of the canon of classic literature. Each of the seven books is a masterpiece, drawing the reader into a land where magic meets reality, and the result is a fictional world whose scope has fascinated generations.This edition presents all seven books—unabridged—in one impressive volume. The books are presented here in chronlogical order, each chapter graced with an illustration by the original artist, Pauline Baynes. Deceptively simple and direct, The Chronicles of Narnia continue to captivate fans with adventures, characters, and truths that speak to readers of all ages, even fifty years after they were first published.\"})\n",
    "CREATE (:Book {title:\"J.R.R. Tolkien 4-Book Boxed Set: The Hobbit and The Lord of the Rings\", author:\"J.R.R. Tolkien\", isbn:\"9780345538376\", rating:\"4.6\", language:\"English\", publishDate:\"09/25/12\", genres:\"['Fantasy', 'Fiction', 'Classics', 'Adventure', 'Science Fiction Fantasy', 'Epic Fantasy', 'High Fantasy', 'Young Adult', 'Literature', 'Magic']\", description:\"This four-volume, boxed set contains J.R.R. Tolkien's epic masterworks The Hobbit and the three volumes of The Lord of the Rings (The Fellowship of the Ring, The Two Towers, and The Return of the King).In The Hobbit, Bilbo Baggins is whisked away from his comfortable, unambitious life in Hobbiton by the wizard Gandalf and a company of dwarves. He finds himself caught up in a plot to raid the treasure hoard of Smaug the Magnificent, a large and very dangerous dragon.The Lord of the Rings tells of the great quest undertaken by Frodo Baggins and the Fellowship of the Ring: Gandalf the wizard; the hobbits Merry, Pippin, and Sam; Gimli the dwarf; Legolas the elf; Boromir of Gondor; and a tall, mysterious stranger called Strider. J.R.R. Tolkien's three volume masterpiece is at once a classic myth and a modern fairy tale—a story of high and heroic adventure set in the unforgettable landscape of Middle-earth\"})\n",
    "CREATE (:Book {title:\"Gone with the Wind\", author:\"Margaret Mitchell\", isbn:\"9780446675536\", rating:\"4.3\", language:\"English\", publishDate:\"04/01/99\", genres:\"['Classics', 'Historical Fiction', 'Fiction', 'Romance', 'Historical', 'War', 'Literature', 'Civil War', 'Historical Romance', 'Novels']\", description:\"Scarlett O'Hara, the beautiful, spoiled daughter of a well-to-do Georgia plantation owner, must use every means at her disposal to claw her way out of the poverty she finds herself in after Sherman's March to the Sea.\"})"
   ]
  },
  {
   "cell_type": "code",
   "execution_count": 11,
   "id": "2f5b52c5",
   "metadata": {},
   "outputs": [
    {
     "data": {
      "application/vnd.jupyter.widget-view+json": {
       "model_id": "75493f69617d4e9d9c67bdccd37e6188",
       "version_major": 2,
       "version_minor": 0
      },
      "text/plain": [
       "Tab()"
      ]
     },
     "metadata": {},
     "output_type": "display_data"
    }
   ],
   "source": [
    "%%oc\n",
    "CREATE (:Person {FirstNname:\"Kelly\", LastName:\"Oneill\", DOB:\"1934-11-06\", City:\"North Tylerberg\", State:\"Alabama\", Country:\"Panama\", PhoneNumber:\"283-696-9163x178\", Email:\"galvanjoshua@example.com\", Gender:\"female\"})\n",
    "CREATE (:Person {FirstNname:\"Alison\", LastName:\"Booker\", DOB:\"1933-03-03\", City:\"Fischerfort\", State:\"New Jersey\", Country:\"Panama\", PhoneNumber:\"650.554.2830\", Email:\"whitesteven@example.net\", Gender:\"female\"})\n",
    "CREATE (:Person {FirstNname:\"Kerri\", LastName:\"White\", DOB:\"1941-07-28\", City:\"West Scottview\", State:\"Arizona\", Country:\"Bangladesh\", PhoneNumber:\"001-996-295-8356\", Email:\"lindaruiz@example.net\", Gender:\"female\"})\n",
    "CREATE (:Person {FirstNname:\"Mindy\", LastName:\"Montgomery\", DOB:\"1984-09-21\", City:\"New Jerrymouth\", State:\"Indiana\", Country:\"Saint Helena\", PhoneNumber:\"(012)924-1610\", Email:\"thomasmartin@example.org\", Gender:\"female\"})\n",
    "CREATE (:Person {FirstNname:\"Pamela\", LastName:\"Rich\", DOB:\"1986-06-30\", City:\"Davisfort\", State:\"Georgia\", Country:\"Falkland Islands (Malvinas)\", PhoneNumber:\"520-908-0209x1718\", Email:\"ccooper@example.com\", Gender:\"female\"})\n",
    "CREATE (:Person {FirstNname:\"Karla\", LastName:\"Ingram\", DOB:\"1963-08-19\", City:\"Tinaberg\", State:\"Wyoming\", Country:\"Maldives\", PhoneNumber:\"001-726-077-9121x47677\", Email:\"tscott@example.com\", Gender:\"female\"})\n",
    "CREATE (:Person {FirstNname:\"Amber\", LastName:\"Haney\", DOB:\"1954-04-27\", City:\"Melissastad\", State:\"California\", Country:\"Malawi\", PhoneNumber:\"170.171.6377x5001\", Email:\"shawn01@example.net\", Gender:\"female\"})\n",
    "CREATE (:Person {FirstNname:\"Vanessa\", LastName:\"Bentley\", DOB:\"1914-04-14\", City:\"North David\", State:\"Maine\", Country:\"Malawi\", PhoneNumber:\"6175629525\", Email:\"qmcmahon@example.org\", Gender:\"female\"})\n",
    "CREATE (:Person {FirstNname:\"Patricia\", LastName:\"Nolan\", DOB:\"1996-12-15\", City:\"Riverashire\", State:\"Tennessee\", Country:\"Maldives\", PhoneNumber:\"001-947-632-9361x395\", Email:\"howellmarie@example.com\", Gender:\"female\"})\n",
    "CREATE (:Person {FirstNname:\"Michele\", LastName:\"Hunter\", DOB:\"1960-11-09\", City:\"Jeffreyhaven\", State:\"Missouri\", Country:\"Eritrea\", PhoneNumber:\"708-333-7508x3375\", Email:\"walkerkristine@example.net\", Gender:\"female\"})\n",
    "CREATE (:Person {FirstNname:\"James\", LastName:\"Frost\", DOB:\"2016-12-28\", City:\"Cassandramouth\", State:\"Florida\", Country:\"Djibouti\", PhoneNumber:\"001-771-724-6269x035\", Email:\"judy14@example.org\", Gender:\"male\"})\n",
    "CREATE (:Person {FirstNname:\"Barry\", LastName:\"Jenkins\", DOB:\"1993-07-22\", City:\"South Jomouth\", State:\"South Dakota\", Country:\"Samoa\", PhoneNumber:\"535.801.9728\", Email:\"john72@example.net\", Gender:\"male\"})\n",
    "CREATE (:Person {FirstNname:\"Michael\", LastName:\"Nunez\", DOB:\"1915-07-17\", City:\"Taylorton\", State:\"Delaware\", Country:\"British Indian Ocean Territory (Chagos Archipelago)\", PhoneNumber:\"+1-717-122-2734x33841\", Email:\"isaacgreen@example.org\", Gender:\"male\"})\n",
    "CREATE (:Person {FirstNname:\"Steve\", LastName:\"Lopez\", DOB:\"1999-09-08\", City:\"South Kristen\", State:\"Vermont\", Country:\"Guyana\", PhoneNumber:\"050.899.9809x8164\", Email:\"christinegreen@example.com\", Gender:\"male\"})\n",
    "CREATE (:Person {FirstNname:\"Daniel\", LastName:\"May\", DOB:\"1945-02-10\", City:\"Heidichester\", State:\"Iowa\", Country:\"Senegal\", PhoneNumber:\"001-401-827-7065\", Email:\"terri73@example.org\", Gender:\"male\"})\n",
    "CREATE (:Person {FirstNname:\"Terry\", LastName:\"Griffith\", DOB:\"1991-05-02\", City:\"Christinahaven\", State:\"West Virginia\", Country:\"Comoros\", PhoneNumber:\"001-996-757-8286x90212\", Email:\"qsnyder@example.org\", Gender:\"male\"})\n",
    "CREATE (:Person {FirstNname:\"Joshua\", LastName:\"Sanders\", DOB:\"1928-05-28\", City:\"Lake Johnbury\", State:\"Mississippi\", Country:\"Macao\", PhoneNumber:\"914-268-0485x52346\", Email:\"rachel08@example.net\", Gender:\"male\"})\n",
    "CREATE (:Person {FirstNname:\"David\", LastName:\"Moore\", DOB:\"1997-07-30\", City:\"New Amyfurt\", State:\"Ohio\", Country:\"Puerto Rico\", PhoneNumber:\"(738)126-0911\", Email:\"petersonrachael@example.com\", Gender:\"male\"})\n",
    "CREATE (:Person {FirstNname:\"Shawn\", LastName:\"Sparks\", DOB:\"2006-07-30\", City:\"North Nicole\", State:\"Illinois\", Country:\"Saudi Arabia\", PhoneNumber:\"(368)464-4701\", Email:\"coxemily@example.com\", Gender:\"male\"})\n",
    "CREATE (:Person {FirstNname:\"Dustin\", LastName:\"Bowers\", DOB:\"1941-11-29\", City:\"Rachaeltown\", State:\"Oregon\", Country:\"Lithuania\", PhoneNumber:\"(580)546-9004x5107\", Email:\"klopez@example.org\", Gender:\"male\"})"
   ]
  },
  {
   "cell_type": "code",
   "execution_count": null,
   "id": "830c210a",
   "metadata": {},
   "outputs": [],
   "source": []
  }
 ],
 "metadata": {
  "kernelspec": {
   "display_name": "Python 3",
   "language": "python",
   "name": "python3"
  },
  "language_info": {
   "codemirror_mode": {
    "name": "ipython",
    "version": 3
   },
   "file_extension": ".py",
   "mimetype": "text/x-python",
   "name": "python",
   "nbconvert_exporter": "python",
   "pygments_lexer": "ipython3",
   "version": "3.7.12"
  }
 },
 "nbformat": 4,
 "nbformat_minor": 5
}
