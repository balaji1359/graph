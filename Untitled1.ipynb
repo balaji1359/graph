{
 "cells": [
  {
   "cell_type": "code",
   "execution_count": 6,
   "id": "78557e56",
   "metadata": {},
   "outputs": [],
   "source": [
    "from neo4j import GraphDatabase\n",
    "\n",
    "uri = \"neo4j://localhost:7687\"\n",
    "driver = GraphDatabase.driver(uri, auth=(\"neo4j\", \"Balu@2481358\"))\n",
    "\n",
    "def create_friend_of(tx, name, friend):\n",
    "    tx.run(\"MATCH (a:Person) WHERE a.name = $name \"\n",
    "           \"CREATE (a)-[:KNOWS]->(:Person {name: $friend})\",\n",
    "           name=name, friend=friend)\n",
    "\n",
    "with driver.session() as session:\n",
    "    session.write_transaction(create_friend_of, \"Alice\", \"Bob\")\n",
    "\n",
    "with driver.session() as session:\n",
    "    session.write_transaction(create_friend_of, \"Alice\", \"Carl\")\n",
    "\n",
    "driver.close()"
   ]
  },
  {
   "cell_type": "code",
   "execution_count": 1,
   "id": "b247701f",
   "metadata": {},
   "outputs": [
    {
     "name": "stdout",
     "output_type": "stream",
     "text": [
      "{'{nodes: nl, links: rl}': {'nodes': [{'name': 'Mindy', 'id': 31}, {'name': 'Alison', 'id': 29}, {'name': 'Terry', 'id': 43}, {'name': 'James', 'id': 38}, {'name': 'David', 'id': 45}, {'name': 'Barry', 'id': 39}, {'name': 'Michael', 'id': 40}, {'name': 'Dustin', 'id': 47}, {'name': 'Shawn', 'id': 46}], 'links': [{'strength': 5, 'source': 31, 'target': 29}, {'strength': None, 'source': 31, 'target': 29}, {'strength': 5, 'source': 43, 'target': 38}, {'strength': None, 'source': 45, 'target': 39}, {'strength': 3, 'source': 40, 'target': 45}, {'strength': 2, 'source': 47, 'target': 46}]}}\n"
     ]
    }
   ],
   "source": [
    "from neo4j import GraphDatabase\n",
    "\n",
    "uri = \"neo4j://localhost:7687\"\n",
    "driver = GraphDatabase.driver(uri, auth=(\"neo4j\", \"Balu@2481358\"))\n",
    "\n",
    "def get_friends_of(tx, name):\n",
    "    friends = []\n",
    "    result = tx.run(\"\"\"match p=(a:Person)-[]->(b:Person)\n",
    "\n",
    "unwind nodes(p) as n unwind relationships(p) as r\n",
    "with collect( distinct {id: ID( n), name: n.FirstNname}) as nl, \n",
    "collect( distinct {source: ID(startnode(r)), target: ID(endnode(r)), strength: r.strength}) as rl\n",
    "RETURN {nodes: nl, links: rl}\"\"\")\n",
    "#     return result\n",
    "    for record in result:\n",
    "        print(record.data())\n",
    "    return friends\n",
    "\n",
    "with driver.session() as session:\n",
    "    friends = session.read_transaction(get_friends_of, \"Alice\")\n",
    "# driver.close()"
   ]
  },
  {
   "cell_type": "code",
   "execution_count": null,
   "id": "2cdaaea4",
   "metadata": {},
   "outputs": [],
   "source": []
  },
  {
   "cell_type": "code",
   "execution_count": null,
   "id": "a9fffdfe",
   "metadata": {},
   "outputs": [],
   "source": []
  },
  {
   "cell_type": "code",
   "execution_count": null,
   "id": "79a6a864",
   "metadata": {},
   "outputs": [],
   "source": []
  },
  {
   "cell_type": "code",
   "execution_count": null,
   "id": "73f9265b",
   "metadata": {},
   "outputs": [],
   "source": []
  }
 ],
 "metadata": {
  "kernelspec": {
   "display_name": "Python 3 (ipykernel)",
   "language": "python",
   "name": "python3"
  },
  "language_info": {
   "codemirror_mode": {
    "name": "ipython",
    "version": 3
   },
   "file_extension": ".py",
   "mimetype": "text/x-python",
   "name": "python",
   "nbconvert_exporter": "python",
   "pygments_lexer": "ipython3",
   "version": "3.9.5"
  }
 },
 "nbformat": 4,
 "nbformat_minor": 5
}
